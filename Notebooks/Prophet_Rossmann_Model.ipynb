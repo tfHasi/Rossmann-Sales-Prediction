{
  "nbformat": 4,
  "nbformat_minor": 0,
  "metadata": {
    "colab": {
      "provenance": [],
      "gpuType": "T4"
    },
    "kernelspec": {
      "name": "python3",
      "display_name": "Python 3"
    },
    "language_info": {
      "name": "python"
    },
    "accelerator": "GPU"
  },
  "cells": [
    {
      "cell_type": "code",
      "source": [
        "from google.colab import drive\n",
        "drive.mount('/content/drive')\n",
        "import pandas as pd\n",
        "import numpy as np\n",
        "import random\n",
        "import matplotlib.pyplot as plt\n",
        "import seaborn as sns"
      ],
      "metadata": {
        "colab": {
          "base_uri": "https://localhost:8080/"
        },
        "id": "Nf8A3oGVNbEN",
        "outputId": "a2db729d-33bd-4766-8283-88128d7ef27d"
      },
      "execution_count": null,
      "outputs": [
        {
          "output_type": "stream",
          "name": "stdout",
          "text": [
            "Mounted at /content/drive\n"
          ]
        }
      ]
    },
    {
      "cell_type": "code",
      "source": [
        "# Set seeds for reproducibility\n",
        "random.seed(42)\n",
        "np.random.seed(42)"
      ],
      "metadata": {
        "id": "HWeaGbzFM8aT"
      },
      "execution_count": null,
      "outputs": []
    },
    {
      "cell_type": "code",
      "source": [
        "# Load the train, test and store csv as dataframes\n",
        "train_df = pd.read_csv('/content/drive/MyDrive/ML Assignment/train.csv')\n",
        "test_df = pd.read_csv('/content/drive/MyDrive/ML Assignment/test.csv')\n",
        "store_df = pd.read_csv('/content/drive/MyDrive/ML Assignment/store.csv')"
      ],
      "metadata": {
        "colab": {
          "base_uri": "https://localhost:8080/"
        },
        "id": "uQ0hXz1LNRIL",
        "outputId": "4f2652ff-e7cf-4e0f-d4e5-0e63b07f93aa"
      },
      "execution_count": null,
      "outputs": [
        {
          "output_type": "stream",
          "name": "stderr",
          "text": [
            "<ipython-input-3-b00ccb8bba85>:2: DtypeWarning: Columns (7) have mixed types. Specify dtype option on import or set low_memory=False.\n",
            "  train_df = pd.read_csv('/content/drive/MyDrive/ML Assignment/train.csv')\n"
          ]
        }
      ]
    },
    {
      "cell_type": "code",
      "source": [
        "print('Train Dataframe Information')\n",
        "print(train_df.info())\n",
        "print('Test Dataframe Information')\n",
        "print(test_df.info())\n",
        "print('Store Dataframe Information')\n",
        "print(store_df.info())"
      ],
      "metadata": {
        "id": "9ons7RXXN7ro",
        "colab": {
          "base_uri": "https://localhost:8080/"
        },
        "outputId": "6ff6bcfe-05dd-4132-e51f-958ce4bd8215"
      },
      "execution_count": null,
      "outputs": [
        {
          "output_type": "stream",
          "name": "stdout",
          "text": [
            "Train Dataframe Information\n",
            "<class 'pandas.core.frame.DataFrame'>\n",
            "RangeIndex: 1017209 entries, 0 to 1017208\n",
            "Data columns (total 9 columns):\n",
            " #   Column         Non-Null Count    Dtype \n",
            "---  ------         --------------    ----- \n",
            " 0   Store          1017209 non-null  int64 \n",
            " 1   DayOfWeek      1017209 non-null  int64 \n",
            " 2   Date           1017209 non-null  object\n",
            " 3   Sales          1017209 non-null  int64 \n",
            " 4   Customers      1017209 non-null  int64 \n",
            " 5   Open           1017209 non-null  int64 \n",
            " 6   Promo          1017209 non-null  int64 \n",
            " 7   StateHoliday   1017209 non-null  object\n",
            " 8   SchoolHoliday  1017209 non-null  int64 \n",
            "dtypes: int64(7), object(2)\n",
            "memory usage: 69.8+ MB\n",
            "None\n",
            "Test Dataframe Information\n",
            "<class 'pandas.core.frame.DataFrame'>\n",
            "RangeIndex: 41088 entries, 0 to 41087\n",
            "Data columns (total 8 columns):\n",
            " #   Column         Non-Null Count  Dtype  \n",
            "---  ------         --------------  -----  \n",
            " 0   Id             41088 non-null  int64  \n",
            " 1   Store          41088 non-null  int64  \n",
            " 2   DayOfWeek      41088 non-null  int64  \n",
            " 3   Date           41088 non-null  object \n",
            " 4   Open           41077 non-null  float64\n",
            " 5   Promo          41088 non-null  int64  \n",
            " 6   StateHoliday   41088 non-null  object \n",
            " 7   SchoolHoliday  41088 non-null  int64  \n",
            "dtypes: float64(1), int64(5), object(2)\n",
            "memory usage: 2.5+ MB\n",
            "None\n",
            "Store Dataframe Information\n",
            "<class 'pandas.core.frame.DataFrame'>\n",
            "RangeIndex: 1115 entries, 0 to 1114\n",
            "Data columns (total 10 columns):\n",
            " #   Column                     Non-Null Count  Dtype  \n",
            "---  ------                     --------------  -----  \n",
            " 0   Store                      1115 non-null   int64  \n",
            " 1   StoreType                  1115 non-null   object \n",
            " 2   Assortment                 1115 non-null   object \n",
            " 3   CompetitionDistance        1112 non-null   float64\n",
            " 4   CompetitionOpenSinceMonth  761 non-null    float64\n",
            " 5   CompetitionOpenSinceYear   761 non-null    float64\n",
            " 6   Promo2                     1115 non-null   int64  \n",
            " 7   Promo2SinceWeek            571 non-null    float64\n",
            " 8   Promo2SinceYear            571 non-null    float64\n",
            " 9   PromoInterval              571 non-null    object \n",
            "dtypes: float64(5), int64(2), object(3)\n",
            "memory usage: 87.2+ KB\n",
            "None\n"
          ]
        }
      ]
    },
    {
      "cell_type": "code",
      "source": [
        "sales = train_df['Sales']\n",
        "pearson_skewness = 3 * (sales.mean() - sales.median()) / sales.std()\n",
        "\n",
        "print(f\"Pearson Skewness of Sales: {pearson_skewness:.4f}\")"
      ],
      "metadata": {
        "colab": {
          "base_uri": "https://localhost:8080/"
        },
        "id": "nPBX0K6tDyAK",
        "outputId": "5c2251f9-4c3d-4921-c845-0dcf47f2de58"
      },
      "execution_count": null,
      "outputs": [
        {
          "output_type": "stream",
          "name": "stdout",
          "text": [
            "Pearson Skewness of Sales: 0.0232\n"
          ]
        }
      ]
    },
    {
      "cell_type": "code",
      "source": [
        "train_df.describe()"
      ],
      "metadata": {
        "id": "tWwHFc14Nt12",
        "colab": {
          "base_uri": "https://localhost:8080/",
          "height": 300
        },
        "outputId": "1c516640-2d5f-4904-a77c-20179746d4f7"
      },
      "execution_count": null,
      "outputs": [
        {
          "output_type": "execute_result",
          "data": {
            "text/plain": [
              "              Store     DayOfWeek         Sales     Customers          Open  \\\n",
              "count  1.017209e+06  1.017209e+06  1.017209e+06  1.017209e+06  1.017209e+06   \n",
              "mean   5.584297e+02  3.998341e+00  5.773819e+03  6.331459e+02  8.301067e-01   \n",
              "std    3.219087e+02  1.997391e+00  3.849926e+03  4.644117e+02  3.755392e-01   \n",
              "min    1.000000e+00  1.000000e+00  0.000000e+00  0.000000e+00  0.000000e+00   \n",
              "25%    2.800000e+02  2.000000e+00  3.727000e+03  4.050000e+02  1.000000e+00   \n",
              "50%    5.580000e+02  4.000000e+00  5.744000e+03  6.090000e+02  1.000000e+00   \n",
              "75%    8.380000e+02  6.000000e+00  7.856000e+03  8.370000e+02  1.000000e+00   \n",
              "max    1.115000e+03  7.000000e+00  4.155100e+04  7.388000e+03  1.000000e+00   \n",
              "\n",
              "              Promo  SchoolHoliday  \n",
              "count  1.017209e+06   1.017209e+06  \n",
              "mean   3.815145e-01   1.786467e-01  \n",
              "std    4.857586e-01   3.830564e-01  \n",
              "min    0.000000e+00   0.000000e+00  \n",
              "25%    0.000000e+00   0.000000e+00  \n",
              "50%    0.000000e+00   0.000000e+00  \n",
              "75%    1.000000e+00   0.000000e+00  \n",
              "max    1.000000e+00   1.000000e+00  "
            ],
            "text/html": [
              "\n",
              "  <div id=\"df-b2c6d843-0bd5-433b-9beb-2080e7857463\" class=\"colab-df-container\">\n",
              "    <div>\n",
              "<style scoped>\n",
              "    .dataframe tbody tr th:only-of-type {\n",
              "        vertical-align: middle;\n",
              "    }\n",
              "\n",
              "    .dataframe tbody tr th {\n",
              "        vertical-align: top;\n",
              "    }\n",
              "\n",
              "    .dataframe thead th {\n",
              "        text-align: right;\n",
              "    }\n",
              "</style>\n",
              "<table border=\"1\" class=\"dataframe\">\n",
              "  <thead>\n",
              "    <tr style=\"text-align: right;\">\n",
              "      <th></th>\n",
              "      <th>Store</th>\n",
              "      <th>DayOfWeek</th>\n",
              "      <th>Sales</th>\n",
              "      <th>Customers</th>\n",
              "      <th>Open</th>\n",
              "      <th>Promo</th>\n",
              "      <th>SchoolHoliday</th>\n",
              "    </tr>\n",
              "  </thead>\n",
              "  <tbody>\n",
              "    <tr>\n",
              "      <th>count</th>\n",
              "      <td>1.017209e+06</td>\n",
              "      <td>1.017209e+06</td>\n",
              "      <td>1.017209e+06</td>\n",
              "      <td>1.017209e+06</td>\n",
              "      <td>1.017209e+06</td>\n",
              "      <td>1.017209e+06</td>\n",
              "      <td>1.017209e+06</td>\n",
              "    </tr>\n",
              "    <tr>\n",
              "      <th>mean</th>\n",
              "      <td>5.584297e+02</td>\n",
              "      <td>3.998341e+00</td>\n",
              "      <td>5.773819e+03</td>\n",
              "      <td>6.331459e+02</td>\n",
              "      <td>8.301067e-01</td>\n",
              "      <td>3.815145e-01</td>\n",
              "      <td>1.786467e-01</td>\n",
              "    </tr>\n",
              "    <tr>\n",
              "      <th>std</th>\n",
              "      <td>3.219087e+02</td>\n",
              "      <td>1.997391e+00</td>\n",
              "      <td>3.849926e+03</td>\n",
              "      <td>4.644117e+02</td>\n",
              "      <td>3.755392e-01</td>\n",
              "      <td>4.857586e-01</td>\n",
              "      <td>3.830564e-01</td>\n",
              "    </tr>\n",
              "    <tr>\n",
              "      <th>min</th>\n",
              "      <td>1.000000e+00</td>\n",
              "      <td>1.000000e+00</td>\n",
              "      <td>0.000000e+00</td>\n",
              "      <td>0.000000e+00</td>\n",
              "      <td>0.000000e+00</td>\n",
              "      <td>0.000000e+00</td>\n",
              "      <td>0.000000e+00</td>\n",
              "    </tr>\n",
              "    <tr>\n",
              "      <th>25%</th>\n",
              "      <td>2.800000e+02</td>\n",
              "      <td>2.000000e+00</td>\n",
              "      <td>3.727000e+03</td>\n",
              "      <td>4.050000e+02</td>\n",
              "      <td>1.000000e+00</td>\n",
              "      <td>0.000000e+00</td>\n",
              "      <td>0.000000e+00</td>\n",
              "    </tr>\n",
              "    <tr>\n",
              "      <th>50%</th>\n",
              "      <td>5.580000e+02</td>\n",
              "      <td>4.000000e+00</td>\n",
              "      <td>5.744000e+03</td>\n",
              "      <td>6.090000e+02</td>\n",
              "      <td>1.000000e+00</td>\n",
              "      <td>0.000000e+00</td>\n",
              "      <td>0.000000e+00</td>\n",
              "    </tr>\n",
              "    <tr>\n",
              "      <th>75%</th>\n",
              "      <td>8.380000e+02</td>\n",
              "      <td>6.000000e+00</td>\n",
              "      <td>7.856000e+03</td>\n",
              "      <td>8.370000e+02</td>\n",
              "      <td>1.000000e+00</td>\n",
              "      <td>1.000000e+00</td>\n",
              "      <td>0.000000e+00</td>\n",
              "    </tr>\n",
              "    <tr>\n",
              "      <th>max</th>\n",
              "      <td>1.115000e+03</td>\n",
              "      <td>7.000000e+00</td>\n",
              "      <td>4.155100e+04</td>\n",
              "      <td>7.388000e+03</td>\n",
              "      <td>1.000000e+00</td>\n",
              "      <td>1.000000e+00</td>\n",
              "      <td>1.000000e+00</td>\n",
              "    </tr>\n",
              "  </tbody>\n",
              "</table>\n",
              "</div>\n",
              "    <div class=\"colab-df-buttons\">\n",
              "\n",
              "  <div class=\"colab-df-container\">\n",
              "    <button class=\"colab-df-convert\" onclick=\"convertToInteractive('df-b2c6d843-0bd5-433b-9beb-2080e7857463')\"\n",
              "            title=\"Convert this dataframe to an interactive table.\"\n",
              "            style=\"display:none;\">\n",
              "\n",
              "  <svg xmlns=\"http://www.w3.org/2000/svg\" height=\"24px\" viewBox=\"0 -960 960 960\">\n",
              "    <path d=\"M120-120v-720h720v720H120Zm60-500h600v-160H180v160Zm220 220h160v-160H400v160Zm0 220h160v-160H400v160ZM180-400h160v-160H180v160Zm440 0h160v-160H620v160ZM180-180h160v-160H180v160Zm440 0h160v-160H620v160Z\"/>\n",
              "  </svg>\n",
              "    </button>\n",
              "\n",
              "  <style>\n",
              "    .colab-df-container {\n",
              "      display:flex;\n",
              "      gap: 12px;\n",
              "    }\n",
              "\n",
              "    .colab-df-convert {\n",
              "      background-color: #E8F0FE;\n",
              "      border: none;\n",
              "      border-radius: 50%;\n",
              "      cursor: pointer;\n",
              "      display: none;\n",
              "      fill: #1967D2;\n",
              "      height: 32px;\n",
              "      padding: 0 0 0 0;\n",
              "      width: 32px;\n",
              "    }\n",
              "\n",
              "    .colab-df-convert:hover {\n",
              "      background-color: #E2EBFA;\n",
              "      box-shadow: 0px 1px 2px rgba(60, 64, 67, 0.3), 0px 1px 3px 1px rgba(60, 64, 67, 0.15);\n",
              "      fill: #174EA6;\n",
              "    }\n",
              "\n",
              "    .colab-df-buttons div {\n",
              "      margin-bottom: 4px;\n",
              "    }\n",
              "\n",
              "    [theme=dark] .colab-df-convert {\n",
              "      background-color: #3B4455;\n",
              "      fill: #D2E3FC;\n",
              "    }\n",
              "\n",
              "    [theme=dark] .colab-df-convert:hover {\n",
              "      background-color: #434B5C;\n",
              "      box-shadow: 0px 1px 3px 1px rgba(0, 0, 0, 0.15);\n",
              "      filter: drop-shadow(0px 1px 2px rgba(0, 0, 0, 0.3));\n",
              "      fill: #FFFFFF;\n",
              "    }\n",
              "  </style>\n",
              "\n",
              "    <script>\n",
              "      const buttonEl =\n",
              "        document.querySelector('#df-b2c6d843-0bd5-433b-9beb-2080e7857463 button.colab-df-convert');\n",
              "      buttonEl.style.display =\n",
              "        google.colab.kernel.accessAllowed ? 'block' : 'none';\n",
              "\n",
              "      async function convertToInteractive(key) {\n",
              "        const element = document.querySelector('#df-b2c6d843-0bd5-433b-9beb-2080e7857463');\n",
              "        const dataTable =\n",
              "          await google.colab.kernel.invokeFunction('convertToInteractive',\n",
              "                                                    [key], {});\n",
              "        if (!dataTable) return;\n",
              "\n",
              "        const docLinkHtml = 'Like what you see? Visit the ' +\n",
              "          '<a target=\"_blank\" href=https://colab.research.google.com/notebooks/data_table.ipynb>data table notebook</a>'\n",
              "          + ' to learn more about interactive tables.';\n",
              "        element.innerHTML = '';\n",
              "        dataTable['output_type'] = 'display_data';\n",
              "        await google.colab.output.renderOutput(dataTable, element);\n",
              "        const docLink = document.createElement('div');\n",
              "        docLink.innerHTML = docLinkHtml;\n",
              "        element.appendChild(docLink);\n",
              "      }\n",
              "    </script>\n",
              "  </div>\n",
              "\n",
              "\n",
              "<div id=\"df-1f14aa85-99d4-4cc3-8e5e-98f3ecb2e9e2\">\n",
              "  <button class=\"colab-df-quickchart\" onclick=\"quickchart('df-1f14aa85-99d4-4cc3-8e5e-98f3ecb2e9e2')\"\n",
              "            title=\"Suggest charts\"\n",
              "            style=\"display:none;\">\n",
              "\n",
              "<svg xmlns=\"http://www.w3.org/2000/svg\" height=\"24px\"viewBox=\"0 0 24 24\"\n",
              "     width=\"24px\">\n",
              "    <g>\n",
              "        <path d=\"M19 3H5c-1.1 0-2 .9-2 2v14c0 1.1.9 2 2 2h14c1.1 0 2-.9 2-2V5c0-1.1-.9-2-2-2zM9 17H7v-7h2v7zm4 0h-2V7h2v10zm4 0h-2v-4h2v4z\"/>\n",
              "    </g>\n",
              "</svg>\n",
              "  </button>\n",
              "\n",
              "<style>\n",
              "  .colab-df-quickchart {\n",
              "      --bg-color: #E8F0FE;\n",
              "      --fill-color: #1967D2;\n",
              "      --hover-bg-color: #E2EBFA;\n",
              "      --hover-fill-color: #174EA6;\n",
              "      --disabled-fill-color: #AAA;\n",
              "      --disabled-bg-color: #DDD;\n",
              "  }\n",
              "\n",
              "  [theme=dark] .colab-df-quickchart {\n",
              "      --bg-color: #3B4455;\n",
              "      --fill-color: #D2E3FC;\n",
              "      --hover-bg-color: #434B5C;\n",
              "      --hover-fill-color: #FFFFFF;\n",
              "      --disabled-bg-color: #3B4455;\n",
              "      --disabled-fill-color: #666;\n",
              "  }\n",
              "\n",
              "  .colab-df-quickchart {\n",
              "    background-color: var(--bg-color);\n",
              "    border: none;\n",
              "    border-radius: 50%;\n",
              "    cursor: pointer;\n",
              "    display: none;\n",
              "    fill: var(--fill-color);\n",
              "    height: 32px;\n",
              "    padding: 0;\n",
              "    width: 32px;\n",
              "  }\n",
              "\n",
              "  .colab-df-quickchart:hover {\n",
              "    background-color: var(--hover-bg-color);\n",
              "    box-shadow: 0 1px 2px rgba(60, 64, 67, 0.3), 0 1px 3px 1px rgba(60, 64, 67, 0.15);\n",
              "    fill: var(--button-hover-fill-color);\n",
              "  }\n",
              "\n",
              "  .colab-df-quickchart-complete:disabled,\n",
              "  .colab-df-quickchart-complete:disabled:hover {\n",
              "    background-color: var(--disabled-bg-color);\n",
              "    fill: var(--disabled-fill-color);\n",
              "    box-shadow: none;\n",
              "  }\n",
              "\n",
              "  .colab-df-spinner {\n",
              "    border: 2px solid var(--fill-color);\n",
              "    border-color: transparent;\n",
              "    border-bottom-color: var(--fill-color);\n",
              "    animation:\n",
              "      spin 1s steps(1) infinite;\n",
              "  }\n",
              "\n",
              "  @keyframes spin {\n",
              "    0% {\n",
              "      border-color: transparent;\n",
              "      border-bottom-color: var(--fill-color);\n",
              "      border-left-color: var(--fill-color);\n",
              "    }\n",
              "    20% {\n",
              "      border-color: transparent;\n",
              "      border-left-color: var(--fill-color);\n",
              "      border-top-color: var(--fill-color);\n",
              "    }\n",
              "    30% {\n",
              "      border-color: transparent;\n",
              "      border-left-color: var(--fill-color);\n",
              "      border-top-color: var(--fill-color);\n",
              "      border-right-color: var(--fill-color);\n",
              "    }\n",
              "    40% {\n",
              "      border-color: transparent;\n",
              "      border-right-color: var(--fill-color);\n",
              "      border-top-color: var(--fill-color);\n",
              "    }\n",
              "    60% {\n",
              "      border-color: transparent;\n",
              "      border-right-color: var(--fill-color);\n",
              "    }\n",
              "    80% {\n",
              "      border-color: transparent;\n",
              "      border-right-color: var(--fill-color);\n",
              "      border-bottom-color: var(--fill-color);\n",
              "    }\n",
              "    90% {\n",
              "      border-color: transparent;\n",
              "      border-bottom-color: var(--fill-color);\n",
              "    }\n",
              "  }\n",
              "</style>\n",
              "\n",
              "  <script>\n",
              "    async function quickchart(key) {\n",
              "      const quickchartButtonEl =\n",
              "        document.querySelector('#' + key + ' button');\n",
              "      quickchartButtonEl.disabled = true;  // To prevent multiple clicks.\n",
              "      quickchartButtonEl.classList.add('colab-df-spinner');\n",
              "      try {\n",
              "        const charts = await google.colab.kernel.invokeFunction(\n",
              "            'suggestCharts', [key], {});\n",
              "      } catch (error) {\n",
              "        console.error('Error during call to suggestCharts:', error);\n",
              "      }\n",
              "      quickchartButtonEl.classList.remove('colab-df-spinner');\n",
              "      quickchartButtonEl.classList.add('colab-df-quickchart-complete');\n",
              "    }\n",
              "    (() => {\n",
              "      let quickchartButtonEl =\n",
              "        document.querySelector('#df-1f14aa85-99d4-4cc3-8e5e-98f3ecb2e9e2 button');\n",
              "      quickchartButtonEl.style.display =\n",
              "        google.colab.kernel.accessAllowed ? 'block' : 'none';\n",
              "    })();\n",
              "  </script>\n",
              "</div>\n",
              "\n",
              "    </div>\n",
              "  </div>\n"
            ],
            "application/vnd.google.colaboratory.intrinsic+json": {
              "type": "dataframe",
              "summary": "{\n  \"name\": \"train_df\",\n  \"rows\": 8,\n  \"fields\": [\n    {\n      \"column\": \"Store\",\n      \"properties\": {\n        \"dtype\": \"number\",\n        \"std\": 359452.3735594962,\n        \"min\": 1.0,\n        \"max\": 1017209.0,\n        \"num_unique_values\": 8,\n        \"samples\": [\n          558.4297268309659,\n          558.0,\n          1017209.0\n        ],\n        \"semantic_type\": \"\",\n        \"description\": \"\"\n      }\n    },\n    {\n      \"column\": \"DayOfWeek\",\n      \"properties\": {\n        \"dtype\": \"number\",\n        \"std\": 359636.37791512266,\n        \"min\": 1.0,\n        \"max\": 1017209.0,\n        \"num_unique_values\": 8,\n        \"samples\": [\n          3.998340557348588,\n          4.0,\n          1017209.0\n        ],\n        \"semantic_type\": \"\",\n        \"description\": \"\"\n      }\n    },\n    {\n      \"column\": \"Sales\",\n      \"properties\": {\n        \"dtype\": \"number\",\n        \"std\": 356420.9824739709,\n        \"min\": 0.0,\n        \"max\": 1017209.0,\n        \"num_unique_values\": 8,\n        \"samples\": [\n          5773.818972305593,\n          5744.0,\n          1017209.0\n        ],\n        \"semantic_type\": \"\",\n        \"description\": \"\"\n      }\n    },\n    {\n      \"column\": \"Customers\",\n      \"properties\": {\n        \"dtype\": \"number\",\n        \"std\": 359123.80477917247,\n        \"min\": 0.0,\n        \"max\": 1017209.0,\n        \"num_unique_values\": 8,\n        \"samples\": [\n          633.1459464082602,\n          609.0,\n          1017209.0\n        ],\n        \"semantic_type\": \"\",\n        \"description\": \"\"\n      }\n    },\n    {\n      \"column\": \"Open\",\n      \"properties\": {\n        \"dtype\": \"number\",\n        \"std\": 359637.42796736036,\n        \"min\": 0.0,\n        \"max\": 1017209.0,\n        \"num_unique_values\": 5,\n        \"samples\": [\n          0.8301066939045958,\n          1.0,\n          0.37553922469328244\n        ],\n        \"semantic_type\": \"\",\n        \"description\": \"\"\n      }\n    },\n    {\n      \"column\": \"Promo\",\n      \"properties\": {\n        \"dtype\": \"number\",\n        \"std\": 359637.5460730712,\n        \"min\": 0.0,\n        \"max\": 1017209.0,\n        \"num_unique_values\": 5,\n        \"samples\": [\n          0.3815145166824124,\n          1.0,\n          0.4857586048745671\n        ],\n        \"semantic_type\": \"\",\n        \"description\": \"\"\n      }\n    },\n    {\n      \"column\": \"SchoolHoliday\",\n      \"properties\": {\n        \"dtype\": \"number\",\n        \"std\": 359637.61201424344,\n        \"min\": 0.0,\n        \"max\": 1017209.0,\n        \"num_unique_values\": 5,\n        \"samples\": [\n          0.17864666946517382,\n          1.0,\n          0.38305636817821037\n        ],\n        \"semantic_type\": \"\",\n        \"description\": \"\"\n      }\n    }\n  ]\n}"
            }
          },
          "metadata": {},
          "execution_count": 5
        }
      ]
    },
    {
      "cell_type": "code",
      "source": [
        "test_df.describe()"
      ],
      "metadata": {
        "id": "JDfQuSovNy-M",
        "colab": {
          "base_uri": "https://localhost:8080/",
          "height": 300
        },
        "outputId": "cbbf6211-1b8c-450c-a6d9-5c0d8838a5f6"
      },
      "execution_count": null,
      "outputs": [
        {
          "output_type": "execute_result",
          "data": {
            "text/plain": [
              "                 Id         Store     DayOfWeek          Open         Promo  \\\n",
              "count  41088.000000  41088.000000  41088.000000  41077.000000  41088.000000   \n",
              "mean   20544.500000    555.899533      3.979167      0.854322      0.395833   \n",
              "std    11861.228267    320.274496      2.015481      0.352787      0.489035   \n",
              "min        1.000000      1.000000      1.000000      0.000000      0.000000   \n",
              "25%    10272.750000    279.750000      2.000000      1.000000      0.000000   \n",
              "50%    20544.500000    553.500000      4.000000      1.000000      0.000000   \n",
              "75%    30816.250000    832.250000      6.000000      1.000000      1.000000   \n",
              "max    41088.000000   1115.000000      7.000000      1.000000      1.000000   \n",
              "\n",
              "       SchoolHoliday  \n",
              "count   41088.000000  \n",
              "mean        0.443487  \n",
              "std         0.496802  \n",
              "min         0.000000  \n",
              "25%         0.000000  \n",
              "50%         0.000000  \n",
              "75%         1.000000  \n",
              "max         1.000000  "
            ],
            "text/html": [
              "\n",
              "  <div id=\"df-ce2a2f38-5d29-4569-84b0-3c7c335b2e3c\" class=\"colab-df-container\">\n",
              "    <div>\n",
              "<style scoped>\n",
              "    .dataframe tbody tr th:only-of-type {\n",
              "        vertical-align: middle;\n",
              "    }\n",
              "\n",
              "    .dataframe tbody tr th {\n",
              "        vertical-align: top;\n",
              "    }\n",
              "\n",
              "    .dataframe thead th {\n",
              "        text-align: right;\n",
              "    }\n",
              "</style>\n",
              "<table border=\"1\" class=\"dataframe\">\n",
              "  <thead>\n",
              "    <tr style=\"text-align: right;\">\n",
              "      <th></th>\n",
              "      <th>Id</th>\n",
              "      <th>Store</th>\n",
              "      <th>DayOfWeek</th>\n",
              "      <th>Open</th>\n",
              "      <th>Promo</th>\n",
              "      <th>SchoolHoliday</th>\n",
              "    </tr>\n",
              "  </thead>\n",
              "  <tbody>\n",
              "    <tr>\n",
              "      <th>count</th>\n",
              "      <td>41088.000000</td>\n",
              "      <td>41088.000000</td>\n",
              "      <td>41088.000000</td>\n",
              "      <td>41077.000000</td>\n",
              "      <td>41088.000000</td>\n",
              "      <td>41088.000000</td>\n",
              "    </tr>\n",
              "    <tr>\n",
              "      <th>mean</th>\n",
              "      <td>20544.500000</td>\n",
              "      <td>555.899533</td>\n",
              "      <td>3.979167</td>\n",
              "      <td>0.854322</td>\n",
              "      <td>0.395833</td>\n",
              "      <td>0.443487</td>\n",
              "    </tr>\n",
              "    <tr>\n",
              "      <th>std</th>\n",
              "      <td>11861.228267</td>\n",
              "      <td>320.274496</td>\n",
              "      <td>2.015481</td>\n",
              "      <td>0.352787</td>\n",
              "      <td>0.489035</td>\n",
              "      <td>0.496802</td>\n",
              "    </tr>\n",
              "    <tr>\n",
              "      <th>min</th>\n",
              "      <td>1.000000</td>\n",
              "      <td>1.000000</td>\n",
              "      <td>1.000000</td>\n",
              "      <td>0.000000</td>\n",
              "      <td>0.000000</td>\n",
              "      <td>0.000000</td>\n",
              "    </tr>\n",
              "    <tr>\n",
              "      <th>25%</th>\n",
              "      <td>10272.750000</td>\n",
              "      <td>279.750000</td>\n",
              "      <td>2.000000</td>\n",
              "      <td>1.000000</td>\n",
              "      <td>0.000000</td>\n",
              "      <td>0.000000</td>\n",
              "    </tr>\n",
              "    <tr>\n",
              "      <th>50%</th>\n",
              "      <td>20544.500000</td>\n",
              "      <td>553.500000</td>\n",
              "      <td>4.000000</td>\n",
              "      <td>1.000000</td>\n",
              "      <td>0.000000</td>\n",
              "      <td>0.000000</td>\n",
              "    </tr>\n",
              "    <tr>\n",
              "      <th>75%</th>\n",
              "      <td>30816.250000</td>\n",
              "      <td>832.250000</td>\n",
              "      <td>6.000000</td>\n",
              "      <td>1.000000</td>\n",
              "      <td>1.000000</td>\n",
              "      <td>1.000000</td>\n",
              "    </tr>\n",
              "    <tr>\n",
              "      <th>max</th>\n",
              "      <td>41088.000000</td>\n",
              "      <td>1115.000000</td>\n",
              "      <td>7.000000</td>\n",
              "      <td>1.000000</td>\n",
              "      <td>1.000000</td>\n",
              "      <td>1.000000</td>\n",
              "    </tr>\n",
              "  </tbody>\n",
              "</table>\n",
              "</div>\n",
              "    <div class=\"colab-df-buttons\">\n",
              "\n",
              "  <div class=\"colab-df-container\">\n",
              "    <button class=\"colab-df-convert\" onclick=\"convertToInteractive('df-ce2a2f38-5d29-4569-84b0-3c7c335b2e3c')\"\n",
              "            title=\"Convert this dataframe to an interactive table.\"\n",
              "            style=\"display:none;\">\n",
              "\n",
              "  <svg xmlns=\"http://www.w3.org/2000/svg\" height=\"24px\" viewBox=\"0 -960 960 960\">\n",
              "    <path d=\"M120-120v-720h720v720H120Zm60-500h600v-160H180v160Zm220 220h160v-160H400v160Zm0 220h160v-160H400v160ZM180-400h160v-160H180v160Zm440 0h160v-160H620v160ZM180-180h160v-160H180v160Zm440 0h160v-160H620v160Z\"/>\n",
              "  </svg>\n",
              "    </button>\n",
              "\n",
              "  <style>\n",
              "    .colab-df-container {\n",
              "      display:flex;\n",
              "      gap: 12px;\n",
              "    }\n",
              "\n",
              "    .colab-df-convert {\n",
              "      background-color: #E8F0FE;\n",
              "      border: none;\n",
              "      border-radius: 50%;\n",
              "      cursor: pointer;\n",
              "      display: none;\n",
              "      fill: #1967D2;\n",
              "      height: 32px;\n",
              "      padding: 0 0 0 0;\n",
              "      width: 32px;\n",
              "    }\n",
              "\n",
              "    .colab-df-convert:hover {\n",
              "      background-color: #E2EBFA;\n",
              "      box-shadow: 0px 1px 2px rgba(60, 64, 67, 0.3), 0px 1px 3px 1px rgba(60, 64, 67, 0.15);\n",
              "      fill: #174EA6;\n",
              "    }\n",
              "\n",
              "    .colab-df-buttons div {\n",
              "      margin-bottom: 4px;\n",
              "    }\n",
              "\n",
              "    [theme=dark] .colab-df-convert {\n",
              "      background-color: #3B4455;\n",
              "      fill: #D2E3FC;\n",
              "    }\n",
              "\n",
              "    [theme=dark] .colab-df-convert:hover {\n",
              "      background-color: #434B5C;\n",
              "      box-shadow: 0px 1px 3px 1px rgba(0, 0, 0, 0.15);\n",
              "      filter: drop-shadow(0px 1px 2px rgba(0, 0, 0, 0.3));\n",
              "      fill: #FFFFFF;\n",
              "    }\n",
              "  </style>\n",
              "\n",
              "    <script>\n",
              "      const buttonEl =\n",
              "        document.querySelector('#df-ce2a2f38-5d29-4569-84b0-3c7c335b2e3c button.colab-df-convert');\n",
              "      buttonEl.style.display =\n",
              "        google.colab.kernel.accessAllowed ? 'block' : 'none';\n",
              "\n",
              "      async function convertToInteractive(key) {\n",
              "        const element = document.querySelector('#df-ce2a2f38-5d29-4569-84b0-3c7c335b2e3c');\n",
              "        const dataTable =\n",
              "          await google.colab.kernel.invokeFunction('convertToInteractive',\n",
              "                                                    [key], {});\n",
              "        if (!dataTable) return;\n",
              "\n",
              "        const docLinkHtml = 'Like what you see? Visit the ' +\n",
              "          '<a target=\"_blank\" href=https://colab.research.google.com/notebooks/data_table.ipynb>data table notebook</a>'\n",
              "          + ' to learn more about interactive tables.';\n",
              "        element.innerHTML = '';\n",
              "        dataTable['output_type'] = 'display_data';\n",
              "        await google.colab.output.renderOutput(dataTable, element);\n",
              "        const docLink = document.createElement('div');\n",
              "        docLink.innerHTML = docLinkHtml;\n",
              "        element.appendChild(docLink);\n",
              "      }\n",
              "    </script>\n",
              "  </div>\n",
              "\n",
              "\n",
              "<div id=\"df-1e6b98c7-d6f3-4465-ac59-e9aab8fb7b6f\">\n",
              "  <button class=\"colab-df-quickchart\" onclick=\"quickchart('df-1e6b98c7-d6f3-4465-ac59-e9aab8fb7b6f')\"\n",
              "            title=\"Suggest charts\"\n",
              "            style=\"display:none;\">\n",
              "\n",
              "<svg xmlns=\"http://www.w3.org/2000/svg\" height=\"24px\"viewBox=\"0 0 24 24\"\n",
              "     width=\"24px\">\n",
              "    <g>\n",
              "        <path d=\"M19 3H5c-1.1 0-2 .9-2 2v14c0 1.1.9 2 2 2h14c1.1 0 2-.9 2-2V5c0-1.1-.9-2-2-2zM9 17H7v-7h2v7zm4 0h-2V7h2v10zm4 0h-2v-4h2v4z\"/>\n",
              "    </g>\n",
              "</svg>\n",
              "  </button>\n",
              "\n",
              "<style>\n",
              "  .colab-df-quickchart {\n",
              "      --bg-color: #E8F0FE;\n",
              "      --fill-color: #1967D2;\n",
              "      --hover-bg-color: #E2EBFA;\n",
              "      --hover-fill-color: #174EA6;\n",
              "      --disabled-fill-color: #AAA;\n",
              "      --disabled-bg-color: #DDD;\n",
              "  }\n",
              "\n",
              "  [theme=dark] .colab-df-quickchart {\n",
              "      --bg-color: #3B4455;\n",
              "      --fill-color: #D2E3FC;\n",
              "      --hover-bg-color: #434B5C;\n",
              "      --hover-fill-color: #FFFFFF;\n",
              "      --disabled-bg-color: #3B4455;\n",
              "      --disabled-fill-color: #666;\n",
              "  }\n",
              "\n",
              "  .colab-df-quickchart {\n",
              "    background-color: var(--bg-color);\n",
              "    border: none;\n",
              "    border-radius: 50%;\n",
              "    cursor: pointer;\n",
              "    display: none;\n",
              "    fill: var(--fill-color);\n",
              "    height: 32px;\n",
              "    padding: 0;\n",
              "    width: 32px;\n",
              "  }\n",
              "\n",
              "  .colab-df-quickchart:hover {\n",
              "    background-color: var(--hover-bg-color);\n",
              "    box-shadow: 0 1px 2px rgba(60, 64, 67, 0.3), 0 1px 3px 1px rgba(60, 64, 67, 0.15);\n",
              "    fill: var(--button-hover-fill-color);\n",
              "  }\n",
              "\n",
              "  .colab-df-quickchart-complete:disabled,\n",
              "  .colab-df-quickchart-complete:disabled:hover {\n",
              "    background-color: var(--disabled-bg-color);\n",
              "    fill: var(--disabled-fill-color);\n",
              "    box-shadow: none;\n",
              "  }\n",
              "\n",
              "  .colab-df-spinner {\n",
              "    border: 2px solid var(--fill-color);\n",
              "    border-color: transparent;\n",
              "    border-bottom-color: var(--fill-color);\n",
              "    animation:\n",
              "      spin 1s steps(1) infinite;\n",
              "  }\n",
              "\n",
              "  @keyframes spin {\n",
              "    0% {\n",
              "      border-color: transparent;\n",
              "      border-bottom-color: var(--fill-color);\n",
              "      border-left-color: var(--fill-color);\n",
              "    }\n",
              "    20% {\n",
              "      border-color: transparent;\n",
              "      border-left-color: var(--fill-color);\n",
              "      border-top-color: var(--fill-color);\n",
              "    }\n",
              "    30% {\n",
              "      border-color: transparent;\n",
              "      border-left-color: var(--fill-color);\n",
              "      border-top-color: var(--fill-color);\n",
              "      border-right-color: var(--fill-color);\n",
              "    }\n",
              "    40% {\n",
              "      border-color: transparent;\n",
              "      border-right-color: var(--fill-color);\n",
              "      border-top-color: var(--fill-color);\n",
              "    }\n",
              "    60% {\n",
              "      border-color: transparent;\n",
              "      border-right-color: var(--fill-color);\n",
              "    }\n",
              "    80% {\n",
              "      border-color: transparent;\n",
              "      border-right-color: var(--fill-color);\n",
              "      border-bottom-color: var(--fill-color);\n",
              "    }\n",
              "    90% {\n",
              "      border-color: transparent;\n",
              "      border-bottom-color: var(--fill-color);\n",
              "    }\n",
              "  }\n",
              "</style>\n",
              "\n",
              "  <script>\n",
              "    async function quickchart(key) {\n",
              "      const quickchartButtonEl =\n",
              "        document.querySelector('#' + key + ' button');\n",
              "      quickchartButtonEl.disabled = true;  // To prevent multiple clicks.\n",
              "      quickchartButtonEl.classList.add('colab-df-spinner');\n",
              "      try {\n",
              "        const charts = await google.colab.kernel.invokeFunction(\n",
              "            'suggestCharts', [key], {});\n",
              "      } catch (error) {\n",
              "        console.error('Error during call to suggestCharts:', error);\n",
              "      }\n",
              "      quickchartButtonEl.classList.remove('colab-df-spinner');\n",
              "      quickchartButtonEl.classList.add('colab-df-quickchart-complete');\n",
              "    }\n",
              "    (() => {\n",
              "      let quickchartButtonEl =\n",
              "        document.querySelector('#df-1e6b98c7-d6f3-4465-ac59-e9aab8fb7b6f button');\n",
              "      quickchartButtonEl.style.display =\n",
              "        google.colab.kernel.accessAllowed ? 'block' : 'none';\n",
              "    })();\n",
              "  </script>\n",
              "</div>\n",
              "\n",
              "    </div>\n",
              "  </div>\n"
            ],
            "application/vnd.google.colaboratory.intrinsic+json": {
              "type": "dataframe",
              "summary": "{\n  \"name\": \"test_df\",\n  \"rows\": 8,\n  \"fields\": [\n    {\n      \"column\": \"Id\",\n      \"properties\": {\n        \"dtype\": \"number\",\n        \"std\": 14808.009194098595,\n        \"min\": 1.0,\n        \"max\": 41088.0,\n        \"num_unique_values\": 6,\n        \"samples\": [\n          41088.0,\n          20544.5,\n          30816.25\n        ],\n        \"semantic_type\": \"\",\n        \"description\": \"\"\n      }\n    },\n    {\n      \"column\": \"Store\",\n      \"properties\": {\n        \"dtype\": \"number\",\n        \"std\": 14346.148882855632,\n        \"min\": 1.0,\n        \"max\": 41088.0,\n        \"num_unique_values\": 8,\n        \"samples\": [\n          555.8995327102804,\n          553.5,\n          41088.0\n        ],\n        \"semantic_type\": \"\",\n        \"description\": \"\"\n      }\n    },\n    {\n      \"column\": \"DayOfWeek\",\n      \"properties\": {\n        \"dtype\": \"number\",\n        \"std\": 14525.488929105122,\n        \"min\": 1.0,\n        \"max\": 41088.0,\n        \"num_unique_values\": 8,\n        \"samples\": [\n          3.9791666666666665,\n          4.0,\n          41088.0\n        ],\n        \"semantic_type\": \"\",\n        \"description\": \"\"\n      }\n    },\n    {\n      \"column\": \"Open\",\n      \"properties\": {\n        \"dtype\": \"number\",\n        \"std\": 14522.64963148391,\n        \"min\": 0.0,\n        \"max\": 41077.0,\n        \"num_unique_values\": 5,\n        \"samples\": [\n          0.8543223701828274,\n          1.0,\n          0.3527870290635081\n        ],\n        \"semantic_type\": \"\",\n        \"description\": \"\"\n      }\n    },\n    {\n      \"column\": \"Promo\",\n      \"properties\": {\n        \"dtype\": \"number\",\n        \"std\": 14526.656010781968,\n        \"min\": 0.0,\n        \"max\": 41088.0,\n        \"num_unique_values\": 5,\n        \"samples\": [\n          0.3958333333333333,\n          1.0,\n          0.48903489253264226\n        ],\n        \"semantic_type\": \"\",\n        \"description\": \"\"\n      }\n    },\n    {\n      \"column\": \"SchoolHoliday\",\n      \"properties\": {\n        \"dtype\": \"number\",\n        \"std\": 14526.653211606224,\n        \"min\": 0.0,\n        \"max\": 41088.0,\n        \"num_unique_values\": 5,\n        \"samples\": [\n          0.4434871495327103,\n          1.0,\n          0.49680207794601405\n        ],\n        \"semantic_type\": \"\",\n        \"description\": \"\"\n      }\n    }\n  ]\n}"
            }
          },
          "metadata": {},
          "execution_count": 6
        }
      ]
    },
    {
      "cell_type": "code",
      "source": [
        "store_df.describe()"
      ],
      "metadata": {
        "id": "TbjqLWvdN11H",
        "colab": {
          "base_uri": "https://localhost:8080/",
          "height": 300
        },
        "outputId": "ad0c9ef4-9308-4bc7-a399-cb8dd8804cdd"
      },
      "execution_count": null,
      "outputs": [
        {
          "output_type": "execute_result",
          "data": {
            "text/plain": [
              "            Store  CompetitionDistance  CompetitionOpenSinceMonth  \\\n",
              "count  1115.00000          1112.000000                 761.000000   \n",
              "mean    558.00000          5404.901079                   7.224704   \n",
              "std     322.01708          7663.174720                   3.212348   \n",
              "min       1.00000            20.000000                   1.000000   \n",
              "25%     279.50000           717.500000                   4.000000   \n",
              "50%     558.00000          2325.000000                   8.000000   \n",
              "75%     836.50000          6882.500000                  10.000000   \n",
              "max    1115.00000         75860.000000                  12.000000   \n",
              "\n",
              "       CompetitionOpenSinceYear       Promo2  Promo2SinceWeek  Promo2SinceYear  \n",
              "count                761.000000  1115.000000       571.000000       571.000000  \n",
              "mean                2008.668857     0.512108        23.595447      2011.763573  \n",
              "std                    6.195983     0.500078        14.141984         1.674935  \n",
              "min                 1900.000000     0.000000         1.000000      2009.000000  \n",
              "25%                 2006.000000     0.000000        13.000000      2011.000000  \n",
              "50%                 2010.000000     1.000000        22.000000      2012.000000  \n",
              "75%                 2013.000000     1.000000        37.000000      2013.000000  \n",
              "max                 2015.000000     1.000000        50.000000      2015.000000  "
            ],
            "text/html": [
              "\n",
              "  <div id=\"df-a4b6fc47-dde0-4de0-b77b-540108537e46\" class=\"colab-df-container\">\n",
              "    <div>\n",
              "<style scoped>\n",
              "    .dataframe tbody tr th:only-of-type {\n",
              "        vertical-align: middle;\n",
              "    }\n",
              "\n",
              "    .dataframe tbody tr th {\n",
              "        vertical-align: top;\n",
              "    }\n",
              "\n",
              "    .dataframe thead th {\n",
              "        text-align: right;\n",
              "    }\n",
              "</style>\n",
              "<table border=\"1\" class=\"dataframe\">\n",
              "  <thead>\n",
              "    <tr style=\"text-align: right;\">\n",
              "      <th></th>\n",
              "      <th>Store</th>\n",
              "      <th>CompetitionDistance</th>\n",
              "      <th>CompetitionOpenSinceMonth</th>\n",
              "      <th>CompetitionOpenSinceYear</th>\n",
              "      <th>Promo2</th>\n",
              "      <th>Promo2SinceWeek</th>\n",
              "      <th>Promo2SinceYear</th>\n",
              "    </tr>\n",
              "  </thead>\n",
              "  <tbody>\n",
              "    <tr>\n",
              "      <th>count</th>\n",
              "      <td>1115.00000</td>\n",
              "      <td>1112.000000</td>\n",
              "      <td>761.000000</td>\n",
              "      <td>761.000000</td>\n",
              "      <td>1115.000000</td>\n",
              "      <td>571.000000</td>\n",
              "      <td>571.000000</td>\n",
              "    </tr>\n",
              "    <tr>\n",
              "      <th>mean</th>\n",
              "      <td>558.00000</td>\n",
              "      <td>5404.901079</td>\n",
              "      <td>7.224704</td>\n",
              "      <td>2008.668857</td>\n",
              "      <td>0.512108</td>\n",
              "      <td>23.595447</td>\n",
              "      <td>2011.763573</td>\n",
              "    </tr>\n",
              "    <tr>\n",
              "      <th>std</th>\n",
              "      <td>322.01708</td>\n",
              "      <td>7663.174720</td>\n",
              "      <td>3.212348</td>\n",
              "      <td>6.195983</td>\n",
              "      <td>0.500078</td>\n",
              "      <td>14.141984</td>\n",
              "      <td>1.674935</td>\n",
              "    </tr>\n",
              "    <tr>\n",
              "      <th>min</th>\n",
              "      <td>1.00000</td>\n",
              "      <td>20.000000</td>\n",
              "      <td>1.000000</td>\n",
              "      <td>1900.000000</td>\n",
              "      <td>0.000000</td>\n",
              "      <td>1.000000</td>\n",
              "      <td>2009.000000</td>\n",
              "    </tr>\n",
              "    <tr>\n",
              "      <th>25%</th>\n",
              "      <td>279.50000</td>\n",
              "      <td>717.500000</td>\n",
              "      <td>4.000000</td>\n",
              "      <td>2006.000000</td>\n",
              "      <td>0.000000</td>\n",
              "      <td>13.000000</td>\n",
              "      <td>2011.000000</td>\n",
              "    </tr>\n",
              "    <tr>\n",
              "      <th>50%</th>\n",
              "      <td>558.00000</td>\n",
              "      <td>2325.000000</td>\n",
              "      <td>8.000000</td>\n",
              "      <td>2010.000000</td>\n",
              "      <td>1.000000</td>\n",
              "      <td>22.000000</td>\n",
              "      <td>2012.000000</td>\n",
              "    </tr>\n",
              "    <tr>\n",
              "      <th>75%</th>\n",
              "      <td>836.50000</td>\n",
              "      <td>6882.500000</td>\n",
              "      <td>10.000000</td>\n",
              "      <td>2013.000000</td>\n",
              "      <td>1.000000</td>\n",
              "      <td>37.000000</td>\n",
              "      <td>2013.000000</td>\n",
              "    </tr>\n",
              "    <tr>\n",
              "      <th>max</th>\n",
              "      <td>1115.00000</td>\n",
              "      <td>75860.000000</td>\n",
              "      <td>12.000000</td>\n",
              "      <td>2015.000000</td>\n",
              "      <td>1.000000</td>\n",
              "      <td>50.000000</td>\n",
              "      <td>2015.000000</td>\n",
              "    </tr>\n",
              "  </tbody>\n",
              "</table>\n",
              "</div>\n",
              "    <div class=\"colab-df-buttons\">\n",
              "\n",
              "  <div class=\"colab-df-container\">\n",
              "    <button class=\"colab-df-convert\" onclick=\"convertToInteractive('df-a4b6fc47-dde0-4de0-b77b-540108537e46')\"\n",
              "            title=\"Convert this dataframe to an interactive table.\"\n",
              "            style=\"display:none;\">\n",
              "\n",
              "  <svg xmlns=\"http://www.w3.org/2000/svg\" height=\"24px\" viewBox=\"0 -960 960 960\">\n",
              "    <path d=\"M120-120v-720h720v720H120Zm60-500h600v-160H180v160Zm220 220h160v-160H400v160Zm0 220h160v-160H400v160ZM180-400h160v-160H180v160Zm440 0h160v-160H620v160ZM180-180h160v-160H180v160Zm440 0h160v-160H620v160Z\"/>\n",
              "  </svg>\n",
              "    </button>\n",
              "\n",
              "  <style>\n",
              "    .colab-df-container {\n",
              "      display:flex;\n",
              "      gap: 12px;\n",
              "    }\n",
              "\n",
              "    .colab-df-convert {\n",
              "      background-color: #E8F0FE;\n",
              "      border: none;\n",
              "      border-radius: 50%;\n",
              "      cursor: pointer;\n",
              "      display: none;\n",
              "      fill: #1967D2;\n",
              "      height: 32px;\n",
              "      padding: 0 0 0 0;\n",
              "      width: 32px;\n",
              "    }\n",
              "\n",
              "    .colab-df-convert:hover {\n",
              "      background-color: #E2EBFA;\n",
              "      box-shadow: 0px 1px 2px rgba(60, 64, 67, 0.3), 0px 1px 3px 1px rgba(60, 64, 67, 0.15);\n",
              "      fill: #174EA6;\n",
              "    }\n",
              "\n",
              "    .colab-df-buttons div {\n",
              "      margin-bottom: 4px;\n",
              "    }\n",
              "\n",
              "    [theme=dark] .colab-df-convert {\n",
              "      background-color: #3B4455;\n",
              "      fill: #D2E3FC;\n",
              "    }\n",
              "\n",
              "    [theme=dark] .colab-df-convert:hover {\n",
              "      background-color: #434B5C;\n",
              "      box-shadow: 0px 1px 3px 1px rgba(0, 0, 0, 0.15);\n",
              "      filter: drop-shadow(0px 1px 2px rgba(0, 0, 0, 0.3));\n",
              "      fill: #FFFFFF;\n",
              "    }\n",
              "  </style>\n",
              "\n",
              "    <script>\n",
              "      const buttonEl =\n",
              "        document.querySelector('#df-a4b6fc47-dde0-4de0-b77b-540108537e46 button.colab-df-convert');\n",
              "      buttonEl.style.display =\n",
              "        google.colab.kernel.accessAllowed ? 'block' : 'none';\n",
              "\n",
              "      async function convertToInteractive(key) {\n",
              "        const element = document.querySelector('#df-a4b6fc47-dde0-4de0-b77b-540108537e46');\n",
              "        const dataTable =\n",
              "          await google.colab.kernel.invokeFunction('convertToInteractive',\n",
              "                                                    [key], {});\n",
              "        if (!dataTable) return;\n",
              "\n",
              "        const docLinkHtml = 'Like what you see? Visit the ' +\n",
              "          '<a target=\"_blank\" href=https://colab.research.google.com/notebooks/data_table.ipynb>data table notebook</a>'\n",
              "          + ' to learn more about interactive tables.';\n",
              "        element.innerHTML = '';\n",
              "        dataTable['output_type'] = 'display_data';\n",
              "        await google.colab.output.renderOutput(dataTable, element);\n",
              "        const docLink = document.createElement('div');\n",
              "        docLink.innerHTML = docLinkHtml;\n",
              "        element.appendChild(docLink);\n",
              "      }\n",
              "    </script>\n",
              "  </div>\n",
              "\n",
              "\n",
              "<div id=\"df-4cf1818f-5d15-448a-b347-0dea0a17f1a8\">\n",
              "  <button class=\"colab-df-quickchart\" onclick=\"quickchart('df-4cf1818f-5d15-448a-b347-0dea0a17f1a8')\"\n",
              "            title=\"Suggest charts\"\n",
              "            style=\"display:none;\">\n",
              "\n",
              "<svg xmlns=\"http://www.w3.org/2000/svg\" height=\"24px\"viewBox=\"0 0 24 24\"\n",
              "     width=\"24px\">\n",
              "    <g>\n",
              "        <path d=\"M19 3H5c-1.1 0-2 .9-2 2v14c0 1.1.9 2 2 2h14c1.1 0 2-.9 2-2V5c0-1.1-.9-2-2-2zM9 17H7v-7h2v7zm4 0h-2V7h2v10zm4 0h-2v-4h2v4z\"/>\n",
              "    </g>\n",
              "</svg>\n",
              "  </button>\n",
              "\n",
              "<style>\n",
              "  .colab-df-quickchart {\n",
              "      --bg-color: #E8F0FE;\n",
              "      --fill-color: #1967D2;\n",
              "      --hover-bg-color: #E2EBFA;\n",
              "      --hover-fill-color: #174EA6;\n",
              "      --disabled-fill-color: #AAA;\n",
              "      --disabled-bg-color: #DDD;\n",
              "  }\n",
              "\n",
              "  [theme=dark] .colab-df-quickchart {\n",
              "      --bg-color: #3B4455;\n",
              "      --fill-color: #D2E3FC;\n",
              "      --hover-bg-color: #434B5C;\n",
              "      --hover-fill-color: #FFFFFF;\n",
              "      --disabled-bg-color: #3B4455;\n",
              "      --disabled-fill-color: #666;\n",
              "  }\n",
              "\n",
              "  .colab-df-quickchart {\n",
              "    background-color: var(--bg-color);\n",
              "    border: none;\n",
              "    border-radius: 50%;\n",
              "    cursor: pointer;\n",
              "    display: none;\n",
              "    fill: var(--fill-color);\n",
              "    height: 32px;\n",
              "    padding: 0;\n",
              "    width: 32px;\n",
              "  }\n",
              "\n",
              "  .colab-df-quickchart:hover {\n",
              "    background-color: var(--hover-bg-color);\n",
              "    box-shadow: 0 1px 2px rgba(60, 64, 67, 0.3), 0 1px 3px 1px rgba(60, 64, 67, 0.15);\n",
              "    fill: var(--button-hover-fill-color);\n",
              "  }\n",
              "\n",
              "  .colab-df-quickchart-complete:disabled,\n",
              "  .colab-df-quickchart-complete:disabled:hover {\n",
              "    background-color: var(--disabled-bg-color);\n",
              "    fill: var(--disabled-fill-color);\n",
              "    box-shadow: none;\n",
              "  }\n",
              "\n",
              "  .colab-df-spinner {\n",
              "    border: 2px solid var(--fill-color);\n",
              "    border-color: transparent;\n",
              "    border-bottom-color: var(--fill-color);\n",
              "    animation:\n",
              "      spin 1s steps(1) infinite;\n",
              "  }\n",
              "\n",
              "  @keyframes spin {\n",
              "    0% {\n",
              "      border-color: transparent;\n",
              "      border-bottom-color: var(--fill-color);\n",
              "      border-left-color: var(--fill-color);\n",
              "    }\n",
              "    20% {\n",
              "      border-color: transparent;\n",
              "      border-left-color: var(--fill-color);\n",
              "      border-top-color: var(--fill-color);\n",
              "    }\n",
              "    30% {\n",
              "      border-color: transparent;\n",
              "      border-left-color: var(--fill-color);\n",
              "      border-top-color: var(--fill-color);\n",
              "      border-right-color: var(--fill-color);\n",
              "    }\n",
              "    40% {\n",
              "      border-color: transparent;\n",
              "      border-right-color: var(--fill-color);\n",
              "      border-top-color: var(--fill-color);\n",
              "    }\n",
              "    60% {\n",
              "      border-color: transparent;\n",
              "      border-right-color: var(--fill-color);\n",
              "    }\n",
              "    80% {\n",
              "      border-color: transparent;\n",
              "      border-right-color: var(--fill-color);\n",
              "      border-bottom-color: var(--fill-color);\n",
              "    }\n",
              "    90% {\n",
              "      border-color: transparent;\n",
              "      border-bottom-color: var(--fill-color);\n",
              "    }\n",
              "  }\n",
              "</style>\n",
              "\n",
              "  <script>\n",
              "    async function quickchart(key) {\n",
              "      const quickchartButtonEl =\n",
              "        document.querySelector('#' + key + ' button');\n",
              "      quickchartButtonEl.disabled = true;  // To prevent multiple clicks.\n",
              "      quickchartButtonEl.classList.add('colab-df-spinner');\n",
              "      try {\n",
              "        const charts = await google.colab.kernel.invokeFunction(\n",
              "            'suggestCharts', [key], {});\n",
              "      } catch (error) {\n",
              "        console.error('Error during call to suggestCharts:', error);\n",
              "      }\n",
              "      quickchartButtonEl.classList.remove('colab-df-spinner');\n",
              "      quickchartButtonEl.classList.add('colab-df-quickchart-complete');\n",
              "    }\n",
              "    (() => {\n",
              "      let quickchartButtonEl =\n",
              "        document.querySelector('#df-4cf1818f-5d15-448a-b347-0dea0a17f1a8 button');\n",
              "      quickchartButtonEl.style.display =\n",
              "        google.colab.kernel.accessAllowed ? 'block' : 'none';\n",
              "    })();\n",
              "  </script>\n",
              "</div>\n",
              "\n",
              "    </div>\n",
              "  </div>\n"
            ],
            "application/vnd.google.colaboratory.intrinsic+json": {
              "type": "dataframe",
              "summary": "{\n  \"name\": \"store_df\",\n  \"rows\": 8,\n  \"fields\": [\n    {\n      \"column\": \"Store\",\n      \"properties\": {\n        \"dtype\": \"number\",\n        \"std\": 401.5466424898015,\n        \"min\": 1.0,\n        \"max\": 1115.0,\n        \"num_unique_values\": 6,\n        \"samples\": [\n          1115.0,\n          558.0,\n          836.5\n        ],\n        \"semantic_type\": \"\",\n        \"description\": \"\"\n      }\n    },\n    {\n      \"column\": \"CompetitionDistance\",\n      \"properties\": {\n        \"dtype\": \"number\",\n        \"std\": 25767.02228248085,\n        \"min\": 20.0,\n        \"max\": 75860.0,\n        \"num_unique_values\": 8,\n        \"samples\": [\n          5404.901079136691,\n          2325.0,\n          1112.0\n        ],\n        \"semantic_type\": \"\",\n        \"description\": \"\"\n      }\n    },\n    {\n      \"column\": \"CompetitionOpenSinceMonth\",\n      \"properties\": {\n        \"dtype\": \"number\",\n        \"std\": 266.7840018895681,\n        \"min\": 1.0,\n        \"max\": 761.0,\n        \"num_unique_values\": 8,\n        \"samples\": [\n          7.2247043363994745,\n          8.0,\n          761.0\n        ],\n        \"semantic_type\": \"\",\n        \"description\": \"\"\n      }\n    },\n    {\n      \"column\": \"CompetitionOpenSinceYear\",\n      \"properties\": {\n        \"dtype\": \"number\",\n        \"std\": 772.3868178763973,\n        \"min\": 6.195982559329067,\n        \"max\": 2015.0,\n        \"num_unique_values\": 8,\n        \"samples\": [\n          2008.6688567674114,\n          2010.0,\n          761.0\n        ],\n        \"semantic_type\": \"\",\n        \"description\": \"\"\n      }\n    },\n    {\n      \"column\": \"Promo2\",\n      \"properties\": {\n        \"dtype\": \"number\",\n        \"std\": 394.0096043922803,\n        \"min\": 0.0,\n        \"max\": 1115.0,\n        \"num_unique_values\": 5,\n        \"samples\": [\n          0.5121076233183857,\n          1.0,\n          0.5000776843468289\n        ],\n        \"semantic_type\": \"\",\n        \"description\": \"\"\n      }\n    },\n    {\n      \"column\": \"Promo2SinceWeek\",\n      \"properties\": {\n        \"dtype\": \"number\",\n        \"std\": 194.34534154687674,\n        \"min\": 1.0,\n        \"max\": 571.0,\n        \"num_unique_values\": 8,\n        \"samples\": [\n          23.595446584938703,\n          22.0,\n          571.0\n        ],\n        \"semantic_type\": \"\",\n        \"description\": \"\"\n      }\n    },\n    {\n      \"column\": \"Promo2SinceYear\",\n      \"properties\": {\n        \"dtype\": \"number\",\n        \"std\": 813.1726517311242,\n        \"min\": 1.6749350926066624,\n        \"max\": 2015.0,\n        \"num_unique_values\": 8,\n        \"samples\": [\n          2011.7635726795097,\n          2012.0,\n          571.0\n        ],\n        \"semantic_type\": \"\",\n        \"description\": \"\"\n      }\n    }\n  ]\n}"
            }
          },
          "metadata": {},
          "execution_count": 7
        }
      ]
    },
    {
      "cell_type": "code",
      "source": [
        "print(train_df.shape)\n",
        "print(test_df.shape)\n",
        "print(store_df.shape)"
      ],
      "metadata": {
        "id": "ovGU7CGoN30n",
        "colab": {
          "base_uri": "https://localhost:8080/"
        },
        "outputId": "fab93791-70a2-4f81-e1ba-c74fc2a4f48c"
      },
      "execution_count": null,
      "outputs": [
        {
          "output_type": "stream",
          "name": "stdout",
          "text": [
            "(1017209, 9)\n",
            "(41088, 8)\n",
            "(1115, 10)\n"
          ]
        }
      ]
    },
    {
      "cell_type": "code",
      "source": [
        "# Check sum of null values in each colomns\n",
        "print(train_df.isnull().sum())\n",
        "print(test_df.isnull().sum())\n",
        "print(store_df.isnull().sum())"
      ],
      "metadata": {
        "id": "cVrVsmoHQ2yn",
        "colab": {
          "base_uri": "https://localhost:8080/"
        },
        "outputId": "b977d3e6-8ba7-4aaa-90bc-f34aa985754f"
      },
      "execution_count": null,
      "outputs": [
        {
          "output_type": "stream",
          "name": "stdout",
          "text": [
            "Store            0\n",
            "DayOfWeek        0\n",
            "Date             0\n",
            "Sales            0\n",
            "Customers        0\n",
            "Open             0\n",
            "Promo            0\n",
            "StateHoliday     0\n",
            "SchoolHoliday    0\n",
            "dtype: int64\n",
            "Id                0\n",
            "Store             0\n",
            "DayOfWeek         0\n",
            "Date              0\n",
            "Open             11\n",
            "Promo             0\n",
            "StateHoliday      0\n",
            "SchoolHoliday     0\n",
            "dtype: int64\n",
            "Store                          0\n",
            "StoreType                      0\n",
            "Assortment                     0\n",
            "CompetitionDistance            3\n",
            "CompetitionOpenSinceMonth    354\n",
            "CompetitionOpenSinceYear     354\n",
            "Promo2                         0\n",
            "Promo2SinceWeek              544\n",
            "Promo2SinceYear              544\n",
            "PromoInterval                544\n",
            "dtype: int64\n"
          ]
        }
      ]
    },
    {
      "cell_type": "code",
      "source": [
        "print('Unique Values in training Dataframe')\n",
        "unique_counts = train_df.nunique().reset_index()\n",
        "unique_counts.columns = ['Column', 'Unique Values']\n",
        "print(unique_counts)\n",
        "print('Unique Values in testing Dataframe')\n",
        "unique_counts = test_df.nunique().reset_index()\n",
        "unique_counts.columns = ['Column', 'Unique Values']\n",
        "print(unique_counts)\n",
        "print('Unique Values in store Dataframe')\n",
        "unique_counts = store_df.nunique().reset_index()\n",
        "unique_counts.columns = ['Column', 'Unique Values']\n",
        "print(unique_counts)"
      ],
      "metadata": {
        "id": "AXER0cKYSzun",
        "colab": {
          "base_uri": "https://localhost:8080/"
        },
        "outputId": "f38602e0-66a2-420b-b76c-c54ac081e826"
      },
      "execution_count": null,
      "outputs": [
        {
          "output_type": "stream",
          "name": "stdout",
          "text": [
            "Unique Values in training Dataframe\n",
            "          Column  Unique Values\n",
            "0          Store           1115\n",
            "1      DayOfWeek              7\n",
            "2           Date            942\n",
            "3          Sales          21734\n",
            "4      Customers           4086\n",
            "5           Open              2\n",
            "6          Promo              2\n",
            "7   StateHoliday              5\n",
            "8  SchoolHoliday              2\n",
            "Unique Values in testing Dataframe\n",
            "          Column  Unique Values\n",
            "0             Id          41088\n",
            "1          Store            856\n",
            "2      DayOfWeek              7\n",
            "3           Date             48\n",
            "4           Open              2\n",
            "5          Promo              2\n",
            "6   StateHoliday              2\n",
            "7  SchoolHoliday              2\n",
            "Unique Values in store Dataframe\n",
            "                      Column  Unique Values\n",
            "0                      Store           1115\n",
            "1                  StoreType              4\n",
            "2                 Assortment              3\n",
            "3        CompetitionDistance            654\n",
            "4  CompetitionOpenSinceMonth             12\n",
            "5   CompetitionOpenSinceYear             23\n",
            "6                     Promo2              2\n",
            "7            Promo2SinceWeek             24\n",
            "8            Promo2SinceYear              7\n",
            "9              PromoInterval              3\n"
          ]
        }
      ]
    },
    {
      "cell_type": "code",
      "source": [
        "store_df.head()"
      ],
      "metadata": {
        "id": "M0gTPbS0TF85",
        "colab": {
          "base_uri": "https://localhost:8080/",
          "height": 206
        },
        "outputId": "3cd8f458-cf5d-436f-b1bd-b6ece4a0d54c"
      },
      "execution_count": null,
      "outputs": [
        {
          "output_type": "execute_result",
          "data": {
            "text/plain": [
              "   Store StoreType Assortment  CompetitionDistance  CompetitionOpenSinceMonth  \\\n",
              "0      1         c          a               1270.0                        9.0   \n",
              "1      2         a          a                570.0                       11.0   \n",
              "2      3         a          a              14130.0                       12.0   \n",
              "3      4         c          c                620.0                        9.0   \n",
              "4      5         a          a              29910.0                        4.0   \n",
              "\n",
              "   CompetitionOpenSinceYear  Promo2  Promo2SinceWeek  Promo2SinceYear  \\\n",
              "0                    2008.0       0              NaN              NaN   \n",
              "1                    2007.0       1             13.0           2010.0   \n",
              "2                    2006.0       1             14.0           2011.0   \n",
              "3                    2009.0       0              NaN              NaN   \n",
              "4                    2015.0       0              NaN              NaN   \n",
              "\n",
              "     PromoInterval  \n",
              "0              NaN  \n",
              "1  Jan,Apr,Jul,Oct  \n",
              "2  Jan,Apr,Jul,Oct  \n",
              "3              NaN  \n",
              "4              NaN  "
            ],
            "text/html": [
              "\n",
              "  <div id=\"df-64c47f30-ceaf-4a6d-81a7-16ca10bb2be0\" class=\"colab-df-container\">\n",
              "    <div>\n",
              "<style scoped>\n",
              "    .dataframe tbody tr th:only-of-type {\n",
              "        vertical-align: middle;\n",
              "    }\n",
              "\n",
              "    .dataframe tbody tr th {\n",
              "        vertical-align: top;\n",
              "    }\n",
              "\n",
              "    .dataframe thead th {\n",
              "        text-align: right;\n",
              "    }\n",
              "</style>\n",
              "<table border=\"1\" class=\"dataframe\">\n",
              "  <thead>\n",
              "    <tr style=\"text-align: right;\">\n",
              "      <th></th>\n",
              "      <th>Store</th>\n",
              "      <th>StoreType</th>\n",
              "      <th>Assortment</th>\n",
              "      <th>CompetitionDistance</th>\n",
              "      <th>CompetitionOpenSinceMonth</th>\n",
              "      <th>CompetitionOpenSinceYear</th>\n",
              "      <th>Promo2</th>\n",
              "      <th>Promo2SinceWeek</th>\n",
              "      <th>Promo2SinceYear</th>\n",
              "      <th>PromoInterval</th>\n",
              "    </tr>\n",
              "  </thead>\n",
              "  <tbody>\n",
              "    <tr>\n",
              "      <th>0</th>\n",
              "      <td>1</td>\n",
              "      <td>c</td>\n",
              "      <td>a</td>\n",
              "      <td>1270.0</td>\n",
              "      <td>9.0</td>\n",
              "      <td>2008.0</td>\n",
              "      <td>0</td>\n",
              "      <td>NaN</td>\n",
              "      <td>NaN</td>\n",
              "      <td>NaN</td>\n",
              "    </tr>\n",
              "    <tr>\n",
              "      <th>1</th>\n",
              "      <td>2</td>\n",
              "      <td>a</td>\n",
              "      <td>a</td>\n",
              "      <td>570.0</td>\n",
              "      <td>11.0</td>\n",
              "      <td>2007.0</td>\n",
              "      <td>1</td>\n",
              "      <td>13.0</td>\n",
              "      <td>2010.0</td>\n",
              "      <td>Jan,Apr,Jul,Oct</td>\n",
              "    </tr>\n",
              "    <tr>\n",
              "      <th>2</th>\n",
              "      <td>3</td>\n",
              "      <td>a</td>\n",
              "      <td>a</td>\n",
              "      <td>14130.0</td>\n",
              "      <td>12.0</td>\n",
              "      <td>2006.0</td>\n",
              "      <td>1</td>\n",
              "      <td>14.0</td>\n",
              "      <td>2011.0</td>\n",
              "      <td>Jan,Apr,Jul,Oct</td>\n",
              "    </tr>\n",
              "    <tr>\n",
              "      <th>3</th>\n",
              "      <td>4</td>\n",
              "      <td>c</td>\n",
              "      <td>c</td>\n",
              "      <td>620.0</td>\n",
              "      <td>9.0</td>\n",
              "      <td>2009.0</td>\n",
              "      <td>0</td>\n",
              "      <td>NaN</td>\n",
              "      <td>NaN</td>\n",
              "      <td>NaN</td>\n",
              "    </tr>\n",
              "    <tr>\n",
              "      <th>4</th>\n",
              "      <td>5</td>\n",
              "      <td>a</td>\n",
              "      <td>a</td>\n",
              "      <td>29910.0</td>\n",
              "      <td>4.0</td>\n",
              "      <td>2015.0</td>\n",
              "      <td>0</td>\n",
              "      <td>NaN</td>\n",
              "      <td>NaN</td>\n",
              "      <td>NaN</td>\n",
              "    </tr>\n",
              "  </tbody>\n",
              "</table>\n",
              "</div>\n",
              "    <div class=\"colab-df-buttons\">\n",
              "\n",
              "  <div class=\"colab-df-container\">\n",
              "    <button class=\"colab-df-convert\" onclick=\"convertToInteractive('df-64c47f30-ceaf-4a6d-81a7-16ca10bb2be0')\"\n",
              "            title=\"Convert this dataframe to an interactive table.\"\n",
              "            style=\"display:none;\">\n",
              "\n",
              "  <svg xmlns=\"http://www.w3.org/2000/svg\" height=\"24px\" viewBox=\"0 -960 960 960\">\n",
              "    <path d=\"M120-120v-720h720v720H120Zm60-500h600v-160H180v160Zm220 220h160v-160H400v160Zm0 220h160v-160H400v160ZM180-400h160v-160H180v160Zm440 0h160v-160H620v160ZM180-180h160v-160H180v160Zm440 0h160v-160H620v160Z\"/>\n",
              "  </svg>\n",
              "    </button>\n",
              "\n",
              "  <style>\n",
              "    .colab-df-container {\n",
              "      display:flex;\n",
              "      gap: 12px;\n",
              "    }\n",
              "\n",
              "    .colab-df-convert {\n",
              "      background-color: #E8F0FE;\n",
              "      border: none;\n",
              "      border-radius: 50%;\n",
              "      cursor: pointer;\n",
              "      display: none;\n",
              "      fill: #1967D2;\n",
              "      height: 32px;\n",
              "      padding: 0 0 0 0;\n",
              "      width: 32px;\n",
              "    }\n",
              "\n",
              "    .colab-df-convert:hover {\n",
              "      background-color: #E2EBFA;\n",
              "      box-shadow: 0px 1px 2px rgba(60, 64, 67, 0.3), 0px 1px 3px 1px rgba(60, 64, 67, 0.15);\n",
              "      fill: #174EA6;\n",
              "    }\n",
              "\n",
              "    .colab-df-buttons div {\n",
              "      margin-bottom: 4px;\n",
              "    }\n",
              "\n",
              "    [theme=dark] .colab-df-convert {\n",
              "      background-color: #3B4455;\n",
              "      fill: #D2E3FC;\n",
              "    }\n",
              "\n",
              "    [theme=dark] .colab-df-convert:hover {\n",
              "      background-color: #434B5C;\n",
              "      box-shadow: 0px 1px 3px 1px rgba(0, 0, 0, 0.15);\n",
              "      filter: drop-shadow(0px 1px 2px rgba(0, 0, 0, 0.3));\n",
              "      fill: #FFFFFF;\n",
              "    }\n",
              "  </style>\n",
              "\n",
              "    <script>\n",
              "      const buttonEl =\n",
              "        document.querySelector('#df-64c47f30-ceaf-4a6d-81a7-16ca10bb2be0 button.colab-df-convert');\n",
              "      buttonEl.style.display =\n",
              "        google.colab.kernel.accessAllowed ? 'block' : 'none';\n",
              "\n",
              "      async function convertToInteractive(key) {\n",
              "        const element = document.querySelector('#df-64c47f30-ceaf-4a6d-81a7-16ca10bb2be0');\n",
              "        const dataTable =\n",
              "          await google.colab.kernel.invokeFunction('convertToInteractive',\n",
              "                                                    [key], {});\n",
              "        if (!dataTable) return;\n",
              "\n",
              "        const docLinkHtml = 'Like what you see? Visit the ' +\n",
              "          '<a target=\"_blank\" href=https://colab.research.google.com/notebooks/data_table.ipynb>data table notebook</a>'\n",
              "          + ' to learn more about interactive tables.';\n",
              "        element.innerHTML = '';\n",
              "        dataTable['output_type'] = 'display_data';\n",
              "        await google.colab.output.renderOutput(dataTable, element);\n",
              "        const docLink = document.createElement('div');\n",
              "        docLink.innerHTML = docLinkHtml;\n",
              "        element.appendChild(docLink);\n",
              "      }\n",
              "    </script>\n",
              "  </div>\n",
              "\n",
              "\n",
              "<div id=\"df-b0e9acbc-3f60-4362-823a-fa78021b0cab\">\n",
              "  <button class=\"colab-df-quickchart\" onclick=\"quickchart('df-b0e9acbc-3f60-4362-823a-fa78021b0cab')\"\n",
              "            title=\"Suggest charts\"\n",
              "            style=\"display:none;\">\n",
              "\n",
              "<svg xmlns=\"http://www.w3.org/2000/svg\" height=\"24px\"viewBox=\"0 0 24 24\"\n",
              "     width=\"24px\">\n",
              "    <g>\n",
              "        <path d=\"M19 3H5c-1.1 0-2 .9-2 2v14c0 1.1.9 2 2 2h14c1.1 0 2-.9 2-2V5c0-1.1-.9-2-2-2zM9 17H7v-7h2v7zm4 0h-2V7h2v10zm4 0h-2v-4h2v4z\"/>\n",
              "    </g>\n",
              "</svg>\n",
              "  </button>\n",
              "\n",
              "<style>\n",
              "  .colab-df-quickchart {\n",
              "      --bg-color: #E8F0FE;\n",
              "      --fill-color: #1967D2;\n",
              "      --hover-bg-color: #E2EBFA;\n",
              "      --hover-fill-color: #174EA6;\n",
              "      --disabled-fill-color: #AAA;\n",
              "      --disabled-bg-color: #DDD;\n",
              "  }\n",
              "\n",
              "  [theme=dark] .colab-df-quickchart {\n",
              "      --bg-color: #3B4455;\n",
              "      --fill-color: #D2E3FC;\n",
              "      --hover-bg-color: #434B5C;\n",
              "      --hover-fill-color: #FFFFFF;\n",
              "      --disabled-bg-color: #3B4455;\n",
              "      --disabled-fill-color: #666;\n",
              "  }\n",
              "\n",
              "  .colab-df-quickchart {\n",
              "    background-color: var(--bg-color);\n",
              "    border: none;\n",
              "    border-radius: 50%;\n",
              "    cursor: pointer;\n",
              "    display: none;\n",
              "    fill: var(--fill-color);\n",
              "    height: 32px;\n",
              "    padding: 0;\n",
              "    width: 32px;\n",
              "  }\n",
              "\n",
              "  .colab-df-quickchart:hover {\n",
              "    background-color: var(--hover-bg-color);\n",
              "    box-shadow: 0 1px 2px rgba(60, 64, 67, 0.3), 0 1px 3px 1px rgba(60, 64, 67, 0.15);\n",
              "    fill: var(--button-hover-fill-color);\n",
              "  }\n",
              "\n",
              "  .colab-df-quickchart-complete:disabled,\n",
              "  .colab-df-quickchart-complete:disabled:hover {\n",
              "    background-color: var(--disabled-bg-color);\n",
              "    fill: var(--disabled-fill-color);\n",
              "    box-shadow: none;\n",
              "  }\n",
              "\n",
              "  .colab-df-spinner {\n",
              "    border: 2px solid var(--fill-color);\n",
              "    border-color: transparent;\n",
              "    border-bottom-color: var(--fill-color);\n",
              "    animation:\n",
              "      spin 1s steps(1) infinite;\n",
              "  }\n",
              "\n",
              "  @keyframes spin {\n",
              "    0% {\n",
              "      border-color: transparent;\n",
              "      border-bottom-color: var(--fill-color);\n",
              "      border-left-color: var(--fill-color);\n",
              "    }\n",
              "    20% {\n",
              "      border-color: transparent;\n",
              "      border-left-color: var(--fill-color);\n",
              "      border-top-color: var(--fill-color);\n",
              "    }\n",
              "    30% {\n",
              "      border-color: transparent;\n",
              "      border-left-color: var(--fill-color);\n",
              "      border-top-color: var(--fill-color);\n",
              "      border-right-color: var(--fill-color);\n",
              "    }\n",
              "    40% {\n",
              "      border-color: transparent;\n",
              "      border-right-color: var(--fill-color);\n",
              "      border-top-color: var(--fill-color);\n",
              "    }\n",
              "    60% {\n",
              "      border-color: transparent;\n",
              "      border-right-color: var(--fill-color);\n",
              "    }\n",
              "    80% {\n",
              "      border-color: transparent;\n",
              "      border-right-color: var(--fill-color);\n",
              "      border-bottom-color: var(--fill-color);\n",
              "    }\n",
              "    90% {\n",
              "      border-color: transparent;\n",
              "      border-bottom-color: var(--fill-color);\n",
              "    }\n",
              "  }\n",
              "</style>\n",
              "\n",
              "  <script>\n",
              "    async function quickchart(key) {\n",
              "      const quickchartButtonEl =\n",
              "        document.querySelector('#' + key + ' button');\n",
              "      quickchartButtonEl.disabled = true;  // To prevent multiple clicks.\n",
              "      quickchartButtonEl.classList.add('colab-df-spinner');\n",
              "      try {\n",
              "        const charts = await google.colab.kernel.invokeFunction(\n",
              "            'suggestCharts', [key], {});\n",
              "      } catch (error) {\n",
              "        console.error('Error during call to suggestCharts:', error);\n",
              "      }\n",
              "      quickchartButtonEl.classList.remove('colab-df-spinner');\n",
              "      quickchartButtonEl.classList.add('colab-df-quickchart-complete');\n",
              "    }\n",
              "    (() => {\n",
              "      let quickchartButtonEl =\n",
              "        document.querySelector('#df-b0e9acbc-3f60-4362-823a-fa78021b0cab button');\n",
              "      quickchartButtonEl.style.display =\n",
              "        google.colab.kernel.accessAllowed ? 'block' : 'none';\n",
              "    })();\n",
              "  </script>\n",
              "</div>\n",
              "\n",
              "    </div>\n",
              "  </div>\n"
            ],
            "application/vnd.google.colaboratory.intrinsic+json": {
              "type": "dataframe",
              "variable_name": "store_df",
              "summary": "{\n  \"name\": \"store_df\",\n  \"rows\": 1115,\n  \"fields\": [\n    {\n      \"column\": \"Store\",\n      \"properties\": {\n        \"dtype\": \"number\",\n        \"std\": 322,\n        \"min\": 1,\n        \"max\": 1115,\n        \"num_unique_values\": 1115,\n        \"samples\": [\n          266,\n          102,\n          1046\n        ],\n        \"semantic_type\": \"\",\n        \"description\": \"\"\n      }\n    },\n    {\n      \"column\": \"StoreType\",\n      \"properties\": {\n        \"dtype\": \"category\",\n        \"num_unique_values\": 4,\n        \"samples\": [\n          \"a\",\n          \"b\",\n          \"c\"\n        ],\n        \"semantic_type\": \"\",\n        \"description\": \"\"\n      }\n    },\n    {\n      \"column\": \"Assortment\",\n      \"properties\": {\n        \"dtype\": \"category\",\n        \"num_unique_values\": 3,\n        \"samples\": [\n          \"a\",\n          \"c\",\n          \"b\"\n        ],\n        \"semantic_type\": \"\",\n        \"description\": \"\"\n      }\n    },\n    {\n      \"column\": \"CompetitionDistance\",\n      \"properties\": {\n        \"dtype\": \"number\",\n        \"std\": 7663.174720367948,\n        \"min\": 20.0,\n        \"max\": 75860.0,\n        \"num_unique_values\": 654,\n        \"samples\": [\n          810.0,\n          1870.0,\n          17650.0\n        ],\n        \"semantic_type\": \"\",\n        \"description\": \"\"\n      }\n    },\n    {\n      \"column\": \"CompetitionOpenSinceMonth\",\n      \"properties\": {\n        \"dtype\": \"number\",\n        \"std\": 3.2123477966147087,\n        \"min\": 1.0,\n        \"max\": 12.0,\n        \"num_unique_values\": 12,\n        \"samples\": [\n          2.0,\n          1.0,\n          9.0\n        ],\n        \"semantic_type\": \"\",\n        \"description\": \"\"\n      }\n    },\n    {\n      \"column\": \"CompetitionOpenSinceYear\",\n      \"properties\": {\n        \"dtype\": \"number\",\n        \"std\": 6.195982559329067,\n        \"min\": 1900.0,\n        \"max\": 2015.0,\n        \"num_unique_values\": 23,\n        \"samples\": [\n          2002.0,\n          2010.0,\n          2008.0\n        ],\n        \"semantic_type\": \"\",\n        \"description\": \"\"\n      }\n    },\n    {\n      \"column\": \"Promo2\",\n      \"properties\": {\n        \"dtype\": \"number\",\n        \"std\": 0,\n        \"min\": 0,\n        \"max\": 1,\n        \"num_unique_values\": 2,\n        \"samples\": [\n          1,\n          0\n        ],\n        \"semantic_type\": \"\",\n        \"description\": \"\"\n      }\n    },\n    {\n      \"column\": \"Promo2SinceWeek\",\n      \"properties\": {\n        \"dtype\": \"number\",\n        \"std\": 14.14198354292219,\n        \"min\": 1.0,\n        \"max\": 50.0,\n        \"num_unique_values\": 24,\n        \"samples\": [\n          6.0,\n          35.0\n        ],\n        \"semantic_type\": \"\",\n        \"description\": \"\"\n      }\n    },\n    {\n      \"column\": \"Promo2SinceYear\",\n      \"properties\": {\n        \"dtype\": \"number\",\n        \"std\": 1.6749350926066624,\n        \"min\": 2009.0,\n        \"max\": 2015.0,\n        \"num_unique_values\": 7,\n        \"samples\": [\n          2010.0,\n          2011.0\n        ],\n        \"semantic_type\": \"\",\n        \"description\": \"\"\n      }\n    },\n    {\n      \"column\": \"PromoInterval\",\n      \"properties\": {\n        \"dtype\": \"category\",\n        \"num_unique_values\": 3,\n        \"samples\": [\n          \"Jan,Apr,Jul,Oct\",\n          \"Feb,May,Aug,Nov\"\n        ],\n        \"semantic_type\": \"\",\n        \"description\": \"\"\n      }\n    }\n  ]\n}"
            }
          },
          "metadata": {},
          "execution_count": 11
        }
      ]
    },
    {
      "cell_type": "markdown",
      "source": [
        "#### Data Preparation"
      ],
      "metadata": {
        "id": "bqMEiL6IZYUr"
      }
    },
    {
      "cell_type": "code",
      "source": [
        "# Checking for mixed types since a warning came when loading to dataframe in train dataset\n",
        "print(train_df['StateHoliday'].value_counts())"
      ],
      "metadata": {
        "id": "3mQ0QnsJZjQm",
        "colab": {
          "base_uri": "https://localhost:8080/"
        },
        "outputId": "212f2cff-01ff-4738-cb1a-17cc7c699ba0"
      },
      "execution_count": null,
      "outputs": [
        {
          "output_type": "stream",
          "name": "stdout",
          "text": [
            "StateHoliday\n",
            "0    855087\n",
            "0    131072\n",
            "a     20260\n",
            "b      6690\n",
            "c      4100\n",
            "Name: count, dtype: int64\n"
          ]
        }
      ]
    },
    {
      "cell_type": "code",
      "source": [
        "# Checking for mixed types since a warning came when loading to dataframe in train dataset\n",
        "print(test_df['StateHoliday'].value_counts())"
      ],
      "metadata": {
        "id": "X1VbdUIs7aVR",
        "colab": {
          "base_uri": "https://localhost:8080/"
        },
        "outputId": "82aff7fd-385a-48ec-83c7-795fcc52d5b5"
      },
      "execution_count": null,
      "outputs": [
        {
          "output_type": "stream",
          "name": "stdout",
          "text": [
            "StateHoliday\n",
            "0    40908\n",
            "a      180\n",
            "Name: count, dtype: int64\n"
          ]
        }
      ]
    },
    {
      "cell_type": "markdown",
      "source": [
        "#### Two '0' are shown because its mixed(string and integer '0'), must convert into string 0s to ensure object dtype is respected"
      ],
      "metadata": {
        "id": "akrh6_WNb6Vj"
      }
    },
    {
      "cell_type": "code",
      "source": [
        "train_df['StateHoliday'] = train_df['StateHoliday'].astype(str)"
      ],
      "metadata": {
        "id": "qYBYUOG0b30B"
      },
      "execution_count": null,
      "outputs": []
    },
    {
      "cell_type": "code",
      "source": [
        "# Verify the changes\n",
        "print(train_df['StateHoliday'].value_counts())"
      ],
      "metadata": {
        "id": "Ja-fYR9_b36s",
        "colab": {
          "base_uri": "https://localhost:8080/"
        },
        "outputId": "7924341a-e8ea-4fef-90aa-c3ff10c10b13"
      },
      "execution_count": null,
      "outputs": [
        {
          "output_type": "stream",
          "name": "stdout",
          "text": [
            "StateHoliday\n",
            "0    986159\n",
            "a     20260\n",
            "b      6690\n",
            "c      4100\n",
            "Name: count, dtype: int64\n"
          ]
        }
      ]
    },
    {
      "cell_type": "code",
      "source": [
        "# Ensure Date column is in datetime format\n",
        "train_df['Date'] = pd.to_datetime(train_df['Date'])\n",
        "test_df['Date'] = pd.to_datetime(test_df['Date'])"
      ],
      "metadata": {
        "id": "SqZeJD78b4Lz"
      },
      "execution_count": null,
      "outputs": []
    },
    {
      "cell_type": "code",
      "source": [
        "# Check for null entries in Open colomn\n",
        "null_count = test_df['Open'].isnull().sum()\n",
        "print(f\"Null values in 'Open': {null_count}\")"
      ],
      "metadata": {
        "id": "aJxEaIHTb4Vi",
        "colab": {
          "base_uri": "https://localhost:8080/"
        },
        "outputId": "5f2ba06f-8afb-41a1-d5f9-22ac52e8a7c8"
      },
      "execution_count": null,
      "outputs": [
        {
          "output_type": "stream",
          "name": "stdout",
          "text": [
            "Null values in 'Open': 11\n"
          ]
        }
      ]
    },
    {
      "cell_type": "code",
      "source": [
        "# Replace 'null' with '0'\n",
        "test_df['Open'] = test_df['Open'].fillna(0).astype(int)\n",
        "print(f\"Null values in 'Open': {test_df['Open'].isnull().sum()}\")"
      ],
      "metadata": {
        "id": "GNsAxgcqb4Y7",
        "colab": {
          "base_uri": "https://localhost:8080/"
        },
        "outputId": "92dd04d4-7680-41c2-e3d5-0c0515604266"
      },
      "execution_count": null,
      "outputs": [
        {
          "output_type": "stream",
          "name": "stdout",
          "text": [
            "Null values in 'Open': 0\n"
          ]
        }
      ]
    },
    {
      "cell_type": "markdown",
      "source": [
        "#### There consists multiple colomns with null entries(MUST be treated)"
      ],
      "metadata": {
        "id": "Mnoix6bovRl0"
      }
    },
    {
      "cell_type": "code",
      "source": [
        "# Fill missing CompetitionDistance with the maximum (assumes no nearby competition)\n",
        "store_df['CompetitionDistance'] = store_df['CompetitionDistance'].fillna(store_df['CompetitionDistance'].max()).astype(float)\n",
        "# Fill missing date-related features with 0 (likely means no competition/promo data)\n",
        "store_df['CompetitionOpenSinceMonth'] = store_df['CompetitionOpenSinceMonth'].fillna(0).astype(float)\n",
        "store_df['CompetitionOpenSinceYear'] = store_df['CompetitionOpenSinceYear'].fillna(0).astype(float)\n",
        "store_df['Promo2SinceWeek'] = store_df['Promo2SinceWeek'].fillna(0).astype(float)\n",
        "store_df['Promo2SinceYear'] = store_df['Promo2SinceYear'].fillna(0).astype(float)\n",
        "# Fill missing PromoInterval (object/string type) with a placeholder string\n",
        "store_df['PromoInterval'] = store_df['PromoInterval'].fillna('None').astype(object)"
      ],
      "metadata": {
        "id": "rzZKjnl-tiGa"
      },
      "execution_count": null,
      "outputs": []
    },
    {
      "cell_type": "code",
      "source": [
        "# Verify changes\n",
        "store_df.describe()"
      ],
      "metadata": {
        "id": "auBFcEnT3SFS",
        "colab": {
          "base_uri": "https://localhost:8080/",
          "height": 300
        },
        "outputId": "6c34e3e3-b561-498c-db77-0070f2128c12"
      },
      "execution_count": null,
      "outputs": [
        {
          "output_type": "execute_result",
          "data": {
            "text/plain": [
              "            Store  CompetitionDistance  CompetitionOpenSinceMonth  \\\n",
              "count  1115.00000          1115.000000                1115.000000   \n",
              "mean    558.00000          5594.466368                   4.930942   \n",
              "std     322.01708          8479.266802                   4.284924   \n",
              "min       1.00000            20.000000                   0.000000   \n",
              "25%     279.50000           720.000000                   0.000000   \n",
              "50%     558.00000          2330.000000                   4.000000   \n",
              "75%     836.50000          6905.000000                   9.000000   \n",
              "max    1115.00000         75860.000000                  12.000000   \n",
              "\n",
              "       CompetitionOpenSinceYear       Promo2  Promo2SinceWeek  Promo2SinceYear  \n",
              "count               1115.000000  1115.000000      1115.000000      1115.000000  \n",
              "mean                1370.939013     0.512108        12.083408      1030.239462  \n",
              "std                  935.467654     0.500078        15.542241      1006.038782  \n",
              "min                    0.000000     0.000000         0.000000         0.000000  \n",
              "25%                    0.000000     0.000000         0.000000         0.000000  \n",
              "50%                 2006.000000     1.000000         1.000000      2009.000000  \n",
              "75%                 2011.000000     1.000000        22.000000      2012.000000  \n",
              "max                 2015.000000     1.000000        50.000000      2015.000000  "
            ],
            "text/html": [
              "\n",
              "  <div id=\"df-4b1b597c-91de-4c31-8e4b-c30db092c014\" class=\"colab-df-container\">\n",
              "    <div>\n",
              "<style scoped>\n",
              "    .dataframe tbody tr th:only-of-type {\n",
              "        vertical-align: middle;\n",
              "    }\n",
              "\n",
              "    .dataframe tbody tr th {\n",
              "        vertical-align: top;\n",
              "    }\n",
              "\n",
              "    .dataframe thead th {\n",
              "        text-align: right;\n",
              "    }\n",
              "</style>\n",
              "<table border=\"1\" class=\"dataframe\">\n",
              "  <thead>\n",
              "    <tr style=\"text-align: right;\">\n",
              "      <th></th>\n",
              "      <th>Store</th>\n",
              "      <th>CompetitionDistance</th>\n",
              "      <th>CompetitionOpenSinceMonth</th>\n",
              "      <th>CompetitionOpenSinceYear</th>\n",
              "      <th>Promo2</th>\n",
              "      <th>Promo2SinceWeek</th>\n",
              "      <th>Promo2SinceYear</th>\n",
              "    </tr>\n",
              "  </thead>\n",
              "  <tbody>\n",
              "    <tr>\n",
              "      <th>count</th>\n",
              "      <td>1115.00000</td>\n",
              "      <td>1115.000000</td>\n",
              "      <td>1115.000000</td>\n",
              "      <td>1115.000000</td>\n",
              "      <td>1115.000000</td>\n",
              "      <td>1115.000000</td>\n",
              "      <td>1115.000000</td>\n",
              "    </tr>\n",
              "    <tr>\n",
              "      <th>mean</th>\n",
              "      <td>558.00000</td>\n",
              "      <td>5594.466368</td>\n",
              "      <td>4.930942</td>\n",
              "      <td>1370.939013</td>\n",
              "      <td>0.512108</td>\n",
              "      <td>12.083408</td>\n",
              "      <td>1030.239462</td>\n",
              "    </tr>\n",
              "    <tr>\n",
              "      <th>std</th>\n",
              "      <td>322.01708</td>\n",
              "      <td>8479.266802</td>\n",
              "      <td>4.284924</td>\n",
              "      <td>935.467654</td>\n",
              "      <td>0.500078</td>\n",
              "      <td>15.542241</td>\n",
              "      <td>1006.038782</td>\n",
              "    </tr>\n",
              "    <tr>\n",
              "      <th>min</th>\n",
              "      <td>1.00000</td>\n",
              "      <td>20.000000</td>\n",
              "      <td>0.000000</td>\n",
              "      <td>0.000000</td>\n",
              "      <td>0.000000</td>\n",
              "      <td>0.000000</td>\n",
              "      <td>0.000000</td>\n",
              "    </tr>\n",
              "    <tr>\n",
              "      <th>25%</th>\n",
              "      <td>279.50000</td>\n",
              "      <td>720.000000</td>\n",
              "      <td>0.000000</td>\n",
              "      <td>0.000000</td>\n",
              "      <td>0.000000</td>\n",
              "      <td>0.000000</td>\n",
              "      <td>0.000000</td>\n",
              "    </tr>\n",
              "    <tr>\n",
              "      <th>50%</th>\n",
              "      <td>558.00000</td>\n",
              "      <td>2330.000000</td>\n",
              "      <td>4.000000</td>\n",
              "      <td>2006.000000</td>\n",
              "      <td>1.000000</td>\n",
              "      <td>1.000000</td>\n",
              "      <td>2009.000000</td>\n",
              "    </tr>\n",
              "    <tr>\n",
              "      <th>75%</th>\n",
              "      <td>836.50000</td>\n",
              "      <td>6905.000000</td>\n",
              "      <td>9.000000</td>\n",
              "      <td>2011.000000</td>\n",
              "      <td>1.000000</td>\n",
              "      <td>22.000000</td>\n",
              "      <td>2012.000000</td>\n",
              "    </tr>\n",
              "    <tr>\n",
              "      <th>max</th>\n",
              "      <td>1115.00000</td>\n",
              "      <td>75860.000000</td>\n",
              "      <td>12.000000</td>\n",
              "      <td>2015.000000</td>\n",
              "      <td>1.000000</td>\n",
              "      <td>50.000000</td>\n",
              "      <td>2015.000000</td>\n",
              "    </tr>\n",
              "  </tbody>\n",
              "</table>\n",
              "</div>\n",
              "    <div class=\"colab-df-buttons\">\n",
              "\n",
              "  <div class=\"colab-df-container\">\n",
              "    <button class=\"colab-df-convert\" onclick=\"convertToInteractive('df-4b1b597c-91de-4c31-8e4b-c30db092c014')\"\n",
              "            title=\"Convert this dataframe to an interactive table.\"\n",
              "            style=\"display:none;\">\n",
              "\n",
              "  <svg xmlns=\"http://www.w3.org/2000/svg\" height=\"24px\" viewBox=\"0 -960 960 960\">\n",
              "    <path d=\"M120-120v-720h720v720H120Zm60-500h600v-160H180v160Zm220 220h160v-160H400v160Zm0 220h160v-160H400v160ZM180-400h160v-160H180v160Zm440 0h160v-160H620v160ZM180-180h160v-160H180v160Zm440 0h160v-160H620v160Z\"/>\n",
              "  </svg>\n",
              "    </button>\n",
              "\n",
              "  <style>\n",
              "    .colab-df-container {\n",
              "      display:flex;\n",
              "      gap: 12px;\n",
              "    }\n",
              "\n",
              "    .colab-df-convert {\n",
              "      background-color: #E8F0FE;\n",
              "      border: none;\n",
              "      border-radius: 50%;\n",
              "      cursor: pointer;\n",
              "      display: none;\n",
              "      fill: #1967D2;\n",
              "      height: 32px;\n",
              "      padding: 0 0 0 0;\n",
              "      width: 32px;\n",
              "    }\n",
              "\n",
              "    .colab-df-convert:hover {\n",
              "      background-color: #E2EBFA;\n",
              "      box-shadow: 0px 1px 2px rgba(60, 64, 67, 0.3), 0px 1px 3px 1px rgba(60, 64, 67, 0.15);\n",
              "      fill: #174EA6;\n",
              "    }\n",
              "\n",
              "    .colab-df-buttons div {\n",
              "      margin-bottom: 4px;\n",
              "    }\n",
              "\n",
              "    [theme=dark] .colab-df-convert {\n",
              "      background-color: #3B4455;\n",
              "      fill: #D2E3FC;\n",
              "    }\n",
              "\n",
              "    [theme=dark] .colab-df-convert:hover {\n",
              "      background-color: #434B5C;\n",
              "      box-shadow: 0px 1px 3px 1px rgba(0, 0, 0, 0.15);\n",
              "      filter: drop-shadow(0px 1px 2px rgba(0, 0, 0, 0.3));\n",
              "      fill: #FFFFFF;\n",
              "    }\n",
              "  </style>\n",
              "\n",
              "    <script>\n",
              "      const buttonEl =\n",
              "        document.querySelector('#df-4b1b597c-91de-4c31-8e4b-c30db092c014 button.colab-df-convert');\n",
              "      buttonEl.style.display =\n",
              "        google.colab.kernel.accessAllowed ? 'block' : 'none';\n",
              "\n",
              "      async function convertToInteractive(key) {\n",
              "        const element = document.querySelector('#df-4b1b597c-91de-4c31-8e4b-c30db092c014');\n",
              "        const dataTable =\n",
              "          await google.colab.kernel.invokeFunction('convertToInteractive',\n",
              "                                                    [key], {});\n",
              "        if (!dataTable) return;\n",
              "\n",
              "        const docLinkHtml = 'Like what you see? Visit the ' +\n",
              "          '<a target=\"_blank\" href=https://colab.research.google.com/notebooks/data_table.ipynb>data table notebook</a>'\n",
              "          + ' to learn more about interactive tables.';\n",
              "        element.innerHTML = '';\n",
              "        dataTable['output_type'] = 'display_data';\n",
              "        await google.colab.output.renderOutput(dataTable, element);\n",
              "        const docLink = document.createElement('div');\n",
              "        docLink.innerHTML = docLinkHtml;\n",
              "        element.appendChild(docLink);\n",
              "      }\n",
              "    </script>\n",
              "  </div>\n",
              "\n",
              "\n",
              "<div id=\"df-1c583e9d-180d-4db9-8dc9-5eed11b118a6\">\n",
              "  <button class=\"colab-df-quickchart\" onclick=\"quickchart('df-1c583e9d-180d-4db9-8dc9-5eed11b118a6')\"\n",
              "            title=\"Suggest charts\"\n",
              "            style=\"display:none;\">\n",
              "\n",
              "<svg xmlns=\"http://www.w3.org/2000/svg\" height=\"24px\"viewBox=\"0 0 24 24\"\n",
              "     width=\"24px\">\n",
              "    <g>\n",
              "        <path d=\"M19 3H5c-1.1 0-2 .9-2 2v14c0 1.1.9 2 2 2h14c1.1 0 2-.9 2-2V5c0-1.1-.9-2-2-2zM9 17H7v-7h2v7zm4 0h-2V7h2v10zm4 0h-2v-4h2v4z\"/>\n",
              "    </g>\n",
              "</svg>\n",
              "  </button>\n",
              "\n",
              "<style>\n",
              "  .colab-df-quickchart {\n",
              "      --bg-color: #E8F0FE;\n",
              "      --fill-color: #1967D2;\n",
              "      --hover-bg-color: #E2EBFA;\n",
              "      --hover-fill-color: #174EA6;\n",
              "      --disabled-fill-color: #AAA;\n",
              "      --disabled-bg-color: #DDD;\n",
              "  }\n",
              "\n",
              "  [theme=dark] .colab-df-quickchart {\n",
              "      --bg-color: #3B4455;\n",
              "      --fill-color: #D2E3FC;\n",
              "      --hover-bg-color: #434B5C;\n",
              "      --hover-fill-color: #FFFFFF;\n",
              "      --disabled-bg-color: #3B4455;\n",
              "      --disabled-fill-color: #666;\n",
              "  }\n",
              "\n",
              "  .colab-df-quickchart {\n",
              "    background-color: var(--bg-color);\n",
              "    border: none;\n",
              "    border-radius: 50%;\n",
              "    cursor: pointer;\n",
              "    display: none;\n",
              "    fill: var(--fill-color);\n",
              "    height: 32px;\n",
              "    padding: 0;\n",
              "    width: 32px;\n",
              "  }\n",
              "\n",
              "  .colab-df-quickchart:hover {\n",
              "    background-color: var(--hover-bg-color);\n",
              "    box-shadow: 0 1px 2px rgba(60, 64, 67, 0.3), 0 1px 3px 1px rgba(60, 64, 67, 0.15);\n",
              "    fill: var(--button-hover-fill-color);\n",
              "  }\n",
              "\n",
              "  .colab-df-quickchart-complete:disabled,\n",
              "  .colab-df-quickchart-complete:disabled:hover {\n",
              "    background-color: var(--disabled-bg-color);\n",
              "    fill: var(--disabled-fill-color);\n",
              "    box-shadow: none;\n",
              "  }\n",
              "\n",
              "  .colab-df-spinner {\n",
              "    border: 2px solid var(--fill-color);\n",
              "    border-color: transparent;\n",
              "    border-bottom-color: var(--fill-color);\n",
              "    animation:\n",
              "      spin 1s steps(1) infinite;\n",
              "  }\n",
              "\n",
              "  @keyframes spin {\n",
              "    0% {\n",
              "      border-color: transparent;\n",
              "      border-bottom-color: var(--fill-color);\n",
              "      border-left-color: var(--fill-color);\n",
              "    }\n",
              "    20% {\n",
              "      border-color: transparent;\n",
              "      border-left-color: var(--fill-color);\n",
              "      border-top-color: var(--fill-color);\n",
              "    }\n",
              "    30% {\n",
              "      border-color: transparent;\n",
              "      border-left-color: var(--fill-color);\n",
              "      border-top-color: var(--fill-color);\n",
              "      border-right-color: var(--fill-color);\n",
              "    }\n",
              "    40% {\n",
              "      border-color: transparent;\n",
              "      border-right-color: var(--fill-color);\n",
              "      border-top-color: var(--fill-color);\n",
              "    }\n",
              "    60% {\n",
              "      border-color: transparent;\n",
              "      border-right-color: var(--fill-color);\n",
              "    }\n",
              "    80% {\n",
              "      border-color: transparent;\n",
              "      border-right-color: var(--fill-color);\n",
              "      border-bottom-color: var(--fill-color);\n",
              "    }\n",
              "    90% {\n",
              "      border-color: transparent;\n",
              "      border-bottom-color: var(--fill-color);\n",
              "    }\n",
              "  }\n",
              "</style>\n",
              "\n",
              "  <script>\n",
              "    async function quickchart(key) {\n",
              "      const quickchartButtonEl =\n",
              "        document.querySelector('#' + key + ' button');\n",
              "      quickchartButtonEl.disabled = true;  // To prevent multiple clicks.\n",
              "      quickchartButtonEl.classList.add('colab-df-spinner');\n",
              "      try {\n",
              "        const charts = await google.colab.kernel.invokeFunction(\n",
              "            'suggestCharts', [key], {});\n",
              "      } catch (error) {\n",
              "        console.error('Error during call to suggestCharts:', error);\n",
              "      }\n",
              "      quickchartButtonEl.classList.remove('colab-df-spinner');\n",
              "      quickchartButtonEl.classList.add('colab-df-quickchart-complete');\n",
              "    }\n",
              "    (() => {\n",
              "      let quickchartButtonEl =\n",
              "        document.querySelector('#df-1c583e9d-180d-4db9-8dc9-5eed11b118a6 button');\n",
              "      quickchartButtonEl.style.display =\n",
              "        google.colab.kernel.accessAllowed ? 'block' : 'none';\n",
              "    })();\n",
              "  </script>\n",
              "</div>\n",
              "\n",
              "    </div>\n",
              "  </div>\n"
            ],
            "application/vnd.google.colaboratory.intrinsic+json": {
              "type": "dataframe",
              "summary": "{\n  \"name\": \"store_df\",\n  \"rows\": 8,\n  \"fields\": [\n    {\n      \"column\": \"Store\",\n      \"properties\": {\n        \"dtype\": \"number\",\n        \"std\": 401.5466424898015,\n        \"min\": 1.0,\n        \"max\": 1115.0,\n        \"num_unique_values\": 6,\n        \"samples\": [\n          1115.0,\n          558.0,\n          836.5\n        ],\n        \"semantic_type\": \"\",\n        \"description\": \"\"\n      }\n    },\n    {\n      \"column\": \"CompetitionDistance\",\n      \"properties\": {\n        \"dtype\": \"number\",\n        \"std\": 25737.913214610442,\n        \"min\": 20.0,\n        \"max\": 75860.0,\n        \"num_unique_values\": 8,\n        \"samples\": [\n          5594.466367713005,\n          2330.0,\n          1115.0\n        ],\n        \"semantic_type\": \"\",\n        \"description\": \"\"\n      }\n    },\n    {\n      \"column\": \"CompetitionOpenSinceMonth\",\n      \"properties\": {\n        \"dtype\": \"number\",\n        \"std\": 392.505056639226,\n        \"min\": 0.0,\n        \"max\": 1115.0,\n        \"num_unique_values\": 7,\n        \"samples\": [\n          1115.0,\n          4.930941704035875,\n          9.0\n        ],\n        \"semantic_type\": \"\",\n        \"description\": \"\"\n      }\n    },\n    {\n      \"column\": \"CompetitionOpenSinceYear\",\n      \"properties\": {\n        \"dtype\": \"number\",\n        \"std\": 841.3694880183052,\n        \"min\": 0.0,\n        \"max\": 2015.0,\n        \"num_unique_values\": 7,\n        \"samples\": [\n          1115.0,\n          1370.9390134529149,\n          2011.0\n        ],\n        \"semantic_type\": \"\",\n        \"description\": \"\"\n      }\n    },\n    {\n      \"column\": \"Promo2\",\n      \"properties\": {\n        \"dtype\": \"number\",\n        \"std\": 394.0096043922803,\n        \"min\": 0.0,\n        \"max\": 1115.0,\n        \"num_unique_values\": 5,\n        \"samples\": [\n          0.5121076233183857,\n          1.0,\n          0.5000776843468289\n        ],\n        \"semantic_type\": \"\",\n        \"description\": \"\"\n      }\n    },\n    {\n      \"column\": \"Promo2SinceWeek\",\n      \"properties\": {\n        \"dtype\": \"number\",\n        \"std\": 389.48305577195384,\n        \"min\": 0.0,\n        \"max\": 1115.0,\n        \"num_unique_values\": 7,\n        \"samples\": [\n          1115.0,\n          12.08340807174888,\n          22.0\n        ],\n        \"semantic_type\": \"\",\n        \"description\": \"\"\n      }\n    },\n    {\n      \"column\": \"Promo2SinceYear\",\n      \"properties\": {\n        \"dtype\": \"number\",\n        \"std\": 837.549332304846,\n        \"min\": 0.0,\n        \"max\": 2015.0,\n        \"num_unique_values\": 7,\n        \"samples\": [\n          1115.0,\n          1030.239461883408,\n          2012.0\n        ],\n        \"semantic_type\": \"\",\n        \"description\": \"\"\n      }\n    }\n  ]\n}"
            }
          },
          "metadata": {},
          "execution_count": 20
        }
      ]
    },
    {
      "cell_type": "code",
      "source": [
        "# Merge store details with train set\n",
        "train_merged = pd.merge(train_df, store_df, on='Store', how='left')\n",
        "# Merge store details with test set\n",
        "test_merged = pd.merge(test_df, store_df, on='Store', how='left')"
      ],
      "metadata": {
        "id": "XC1wX2fBU9BE"
      },
      "execution_count": null,
      "outputs": []
    },
    {
      "cell_type": "markdown",
      "source": [
        "#### Pearson Correlation Matrix for numeric colomns(to find linear relationships)"
      ],
      "metadata": {
        "id": "iKH9Hue4dfEO"
      }
    },
    {
      "cell_type": "code",
      "source": [
        "# Select numeric columns only\n",
        "numeric_cols = train_merged.select_dtypes(include=['number'])\n",
        "# Compute the correlation matrix\n",
        "correlation_matrix = numeric_cols.corr(method='pearson')"
      ],
      "metadata": {
        "id": "T2MA7jEVdX5r"
      },
      "execution_count": null,
      "outputs": []
    },
    {
      "cell_type": "code",
      "source": [
        "# Visualize\n",
        "plt.figure(figsize=(12, 8))\n",
        "sns.heatmap(correlation_matrix, annot=True, fmt='.2f', cmap='coolwarm')\n",
        "plt.title('Pearson Correlation Matrix')\n",
        "plt.show()"
      ],
      "metadata": {
        "id": "aqtMyZVYeZRA",
        "colab": {
          "base_uri": "https://localhost:8080/",
          "height": 888
        },
        "outputId": "3661f369-fc51-4972-c9c0-0bfc48e7c0c3"
      },
      "execution_count": null,
      "outputs": [
        {
          "output_type": "display_data",
          "data": {
            "text/plain": [
              "<Figure size 1200x800 with 2 Axes>"
            ],
            "image/png": "[encoded data removed]"
          },
          "metadata": {}
        }
      ]
    },
    {
      "cell_type": "markdown",
      "source": [
        "#### Group by Categorical features"
      ],
      "metadata": {
        "id": "6eOTCuVuxk4n"
      }
    },
    {
      "cell_type": "code",
      "source": [
        "# Average sales by Promo (0 or 1)\n",
        "promo_sales = train_merged.groupby('Promo')['Sales'].mean()\n",
        "print(\"Average Sales by Promo:\\n\", promo_sales)\n",
        "# Average sales by whether the store is open\n",
        "open_sales = train_merged.groupby('Open')['Sales'].mean()\n",
        "print(\"\\nAverage Sales by Open:\\n\", open_sales)\n",
        "# Average sales by day of the week\n",
        "dayofweek_sales = train_merged.groupby('DayOfWeek')['Sales'].mean()\n",
        "print(\"\\nAverage Sales by Day of the Week:\\n\", dayofweek_sales)\n",
        "# Average sales by SchoolHoliday\n",
        "school_sales = train_merged.groupby('SchoolHoliday')['Sales'].mean()\n",
        "print(\"\\nAverage Sales by School Holiday:\\n\", school_sales)\n",
        "# Average sales by StateHoliday\n",
        "state_sales = train_merged.groupby('StateHoliday')['Sales'].mean()\n",
        "print(\"\\nAverage Sales by State Holiday:\\n\", state_sales)\n",
        "# Average sales by StoreType\n",
        "storetype_sales = train_merged.groupby('StoreType')['Sales'].mean()\n",
        "print(\"\\nAverage Sales by Store Type:\\n\", storetype_sales)\n",
        "# Average sales by Assortment\n",
        "storetype_sales = train_merged.groupby('Assortment')['Sales'].mean()\n",
        "print(\"\\nAverage Sales by Assortment:\\n\", storetype_sales)"
      ],
      "metadata": {
        "id": "5oUQ-PZNlgAt",
        "colab": {
          "base_uri": "https://localhost:8080/"
        },
        "outputId": "c63a00c8-3afe-4f53-beba-e4242b1958b7"
      },
      "execution_count": null,
      "outputs": [
        {
          "output_type": "stream",
          "name": "stdout",
          "text": [
            "Average Sales by Promo:\n",
            " Promo\n",
            "0    4406.050805\n",
            "1    7991.152046\n",
            "Name: Sales, dtype: float64\n",
            "\n",
            "Average Sales by Open:\n",
            " Open\n",
            "0       0.000000\n",
            "1    6955.514291\n",
            "Name: Sales, dtype: float64\n",
            "\n",
            "Average Sales by Day of the Week:\n",
            " DayOfWeek\n",
            "1    7809.044510\n",
            "2    7005.244467\n",
            "3    6555.884138\n",
            "4    6247.575913\n",
            "5    6723.274305\n",
            "6    5847.562599\n",
            "7     204.183189\n",
            "Name: Sales, dtype: float64\n",
            "\n",
            "Average Sales by School Holiday:\n",
            " SchoolHoliday\n",
            "0    5620.979034\n",
            "1    6476.522207\n",
            "Name: Sales, dtype: float64\n",
            "\n",
            "Average Sales by State Holiday:\n",
            " StateHoliday\n",
            "0    5947.483893\n",
            "a     290.735686\n",
            "b     214.311510\n",
            "c     168.733171\n",
            "Name: Sales, dtype: float64\n",
            "\n",
            "Average Sales by Store Type:\n",
            " StoreType\n",
            "a     5738.179710\n",
            "b    10058.837334\n",
            "c     5723.629246\n",
            "d     5641.819243\n",
            "Name: Sales, dtype: float64\n",
            "\n",
            "Average Sales by Assortment:\n",
            " Assortment\n",
            "a    5481.026096\n",
            "b    8553.931999\n",
            "c    6058.676567\n",
            "Name: Sales, dtype: float64\n"
          ]
        }
      ]
    },
    {
      "cell_type": "code",
      "source": [
        "# Group by Date and StoreType and calculate average Sales\n",
        "sales_over_time = train_merged.groupby(['Date', 'StoreType'])['Sales'].mean().reset_index()\n",
        "\n",
        "# Compute 7-day rolling average for each StoreType\n",
        "sales_over_time['SalesRolling'] = sales_over_time.groupby('StoreType')['Sales'].transform(lambda x: x.rolling(7, min_periods=1).mean())\n",
        "\n",
        "# Plot the smoothed sales\n",
        "plt.figure(figsize=(14, 6))\n",
        "sns.lineplot(data=sales_over_time, x='Date', y='SalesRolling', hue='StoreType')\n",
        "plt.title(\"7-Day Rolling Average Sales Over Time by Store Type\")\n",
        "plt.xlabel(\"Date\")\n",
        "plt.ylabel(\"Rolling Average Sales\")\n",
        "plt.legend(title='Store Type')\n",
        "plt.tight_layout()\n",
        "plt.show()"
      ],
      "metadata": {
        "id": "hxXdDzxXz-q5",
        "colab": {
          "base_uri": "https://localhost:8080/",
          "height": 607
        },
        "outputId": "3924497c-81c6-4996-e807-12ed7a5c8192"
      },
      "execution_count": null,
      "outputs": [
        {
          "output_type": "display_data",
          "data": {
            "text/plain": [
              "<Figure size 1400x600 with 1 Axes>"
            ],
            "image/png": "[encoded data removed]"
          },
          "metadata": {}
        }
      ]
    },
    {
      "cell_type": "code",
      "source": [
        "train_merged.info()"
      ],
      "metadata": {
        "id": "UCW5UUgT6ZN0",
        "colab": {
          "base_uri": "https://localhost:8080/"
        },
        "outputId": "3a16daf5-969e-4e60-a846-65064f7e6d11"
      },
      "execution_count": null,
      "outputs": [
        {
          "output_type": "stream",
          "name": "stdout",
          "text": [
            "<class 'pandas.core.frame.DataFrame'>\n",
            "RangeIndex: 1017209 entries, 0 to 1017208\n",
            "Data columns (total 18 columns):\n",
            " #   Column                     Non-Null Count    Dtype         \n",
            "---  ------                     --------------    -----         \n",
            " 0   Store                      1017209 non-null  int64         \n",
            " 1   DayOfWeek                  1017209 non-null  int64         \n",
            " 2   Date                       1017209 non-null  datetime64[ns]\n",
            " 3   Sales                      1017209 non-null  int64         \n",
            " 4   Customers                  1017209 non-null  int64         \n",
            " 5   Open                       1017209 non-null  int64         \n",
            " 6   Promo                      1017209 non-null  int64         \n",
            " 7   StateHoliday               1017209 non-null  object        \n",
            " 8   SchoolHoliday              1017209 non-null  int64         \n",
            " 9   StoreType                  1017209 non-null  object        \n",
            " 10  Assortment                 1017209 non-null  object        \n",
            " 11  CompetitionDistance        1017209 non-null  float64       \n",
            " 12  CompetitionOpenSinceMonth  1017209 non-null  float64       \n",
            " 13  CompetitionOpenSinceYear   1017209 non-null  float64       \n",
            " 14  Promo2                     1017209 non-null  int64         \n",
            " 15  Promo2SinceWeek            1017209 non-null  float64       \n",
            " 16  Promo2SinceYear            1017209 non-null  float64       \n",
            " 17  PromoInterval              1017209 non-null  object        \n",
            "dtypes: datetime64[ns](1), float64(5), int64(8), object(4)\n",
            "memory usage: 139.7+ MB\n"
          ]
        }
      ]
    },
    {
      "cell_type": "code",
      "source": [
        "test_merged.info()"
      ],
      "metadata": {
        "id": "VZlq3OHp5OaC",
        "colab": {
          "base_uri": "https://localhost:8080/"
        },
        "outputId": "f6fcbeac-50e0-43c6-dacf-f3d22ea50879"
      },
      "execution_count": null,
      "outputs": [
        {
          "output_type": "stream",
          "name": "stdout",
          "text": [
            "<class 'pandas.core.frame.DataFrame'>\n",
            "RangeIndex: 41088 entries, 0 to 41087\n",
            "Data columns (total 17 columns):\n",
            " #   Column                     Non-Null Count  Dtype         \n",
            "---  ------                     --------------  -----         \n",
            " 0   Id                         41088 non-null  int64         \n",
            " 1   Store                      41088 non-null  int64         \n",
            " 2   DayOfWeek                  41088 non-null  int64         \n",
            " 3   Date                       41088 non-null  datetime64[ns]\n",
            " 4   Open                       41088 non-null  int64         \n",
            " 5   Promo                      41088 non-null  int64         \n",
            " 6   StateHoliday               41088 non-null  object        \n",
            " 7   SchoolHoliday              41088 non-null  int64         \n",
            " 8   StoreType                  41088 non-null  object        \n",
            " 9   Assortment                 41088 non-null  object        \n",
            " 10  CompetitionDistance        41088 non-null  float64       \n",
            " 11  CompetitionOpenSinceMonth  41088 non-null  float64       \n",
            " 12  CompetitionOpenSinceYear   41088 non-null  float64       \n",
            " 13  Promo2                     41088 non-null  int64         \n",
            " 14  Promo2SinceWeek            41088 non-null  float64       \n",
            " 15  Promo2SinceYear            41088 non-null  float64       \n",
            " 16  PromoInterval              41088 non-null  object        \n",
            "dtypes: datetime64[ns](1), float64(5), int64(7), object(4)\n",
            "memory usage: 5.3+ MB\n"
          ]
        }
      ]
    },
    {
      "cell_type": "code",
      "source": [
        "print('Unique Values in merged training Dataframe')\n",
        "unique_counts = train_merged.nunique().reset_index()\n",
        "unique_counts.columns = ['Column', 'Unique Values']\n",
        "print(unique_counts)\n",
        "print('Unique Values in merged testing Dataframe')\n",
        "unique_counts = test_merged.nunique().reset_index()\n",
        "unique_counts.columns = ['Column', 'Unique Values']\n",
        "print(unique_counts)"
      ],
      "metadata": {
        "id": "Z2S7dH_15o36",
        "colab": {
          "base_uri": "https://localhost:8080/"
        },
        "outputId": "2f18dfeb-23a8-4d71-dda9-f16fd9e6bd81"
      },
      "execution_count": null,
      "outputs": [
        {
          "output_type": "stream",
          "name": "stdout",
          "text": [
            "Unique Values in merged training Dataframe\n",
            "                       Column  Unique Values\n",
            "0                       Store           1115\n",
            "1                   DayOfWeek              7\n",
            "2                        Date            942\n",
            "3                       Sales          21734\n",
            "4                   Customers           4086\n",
            "5                        Open              2\n",
            "6                       Promo              2\n",
            "7                StateHoliday              4\n",
            "8               SchoolHoliday              2\n",
            "9                   StoreType              4\n",
            "10                 Assortment              3\n",
            "11        CompetitionDistance            654\n",
            "12  CompetitionOpenSinceMonth             13\n",
            "13   CompetitionOpenSinceYear             24\n",
            "14                     Promo2              2\n",
            "15            Promo2SinceWeek             25\n",
            "16            Promo2SinceYear              8\n",
            "17              PromoInterval              4\n",
            "Unique Values in merged testing Dataframe\n",
            "                       Column  Unique Values\n",
            "0                          Id          41088\n",
            "1                       Store            856\n",
            "2                   DayOfWeek              7\n",
            "3                        Date             48\n",
            "4                        Open              2\n",
            "5                       Promo              2\n",
            "6                StateHoliday              2\n",
            "7               SchoolHoliday              2\n",
            "8                   StoreType              4\n",
            "9                  Assortment              3\n",
            "10        CompetitionDistance            554\n",
            "11  CompetitionOpenSinceMonth             13\n",
            "12   CompetitionOpenSinceYear             24\n",
            "13                     Promo2              2\n",
            "14            Promo2SinceWeek             22\n",
            "15            Promo2SinceYear              8\n",
            "16              PromoInterval              4\n"
          ]
        }
      ]
    },
    {
      "cell_type": "code",
      "source": [
        "print(train_merged['PromoInterval'].value_counts())"
      ],
      "metadata": {
        "id": "WK6KxRKOANeR",
        "colab": {
          "base_uri": "https://localhost:8080/"
        },
        "outputId": "e197212b-4f61-44bf-f60a-53dca18eb775"
      },
      "execution_count": null,
      "outputs": [
        {
          "output_type": "stream",
          "name": "stdout",
          "text": [
            "PromoInterval\n",
            "None                508031\n",
            "Jan,Apr,Jul,Oct     293122\n",
            "Feb,May,Aug,Nov     118596\n",
            "Mar,Jun,Sept,Dec     97460\n",
            "Name: count, dtype: int64\n"
          ]
        }
      ]
    },
    {
      "cell_type": "markdown",
      "source": [
        "### Feature engineering and Data Preparation"
      ],
      "metadata": {
        "id": "gRQHDrqYA3-Q"
      }
    },
    {
      "cell_type": "code",
      "source": [
        "# Handle categorical variables\n",
        "# StateHoliday encoding\n",
        "for col in ['0', 'a', 'b', 'c']:\n",
        "    train_merged[f'StateHoliday_{col}'] = (train_merged['StateHoliday'] == col).astype(int)\n",
        "    test_merged[f'StateHoliday_{col}'] = (test_merged['StateHoliday'] == col).astype(int)\n",
        "\n",
        "# StoreType encoding\n",
        "for col in ['a', 'b', 'c', 'd']:\n",
        "    train_merged[f'StoreType_{col}'] = (train_merged['StoreType'] == col).astype(int)\n",
        "    test_merged[f'StoreType_{col}'] = (test_merged['StoreType'] == col).astype(int)\n",
        "\n",
        "# Assortment encoding\n",
        "for col in ['a', 'b', 'c']:\n",
        "    train_merged[f'Assortment_{col}'] = (train_merged['Assortment'] == col).astype(int)\n",
        "    test_merged[f'Assortment_{col}'] = (test_merged['Assortment'] == col).astype(int)\n",
        "\n",
        "# PromoInterval encoding\n",
        "promo_intervals = ['None', 'Jan,Apr,Jul,Oct', 'Feb,May,Aug,Nov', 'Mar,Jun,Sept,Dec']\n",
        "for interval in promo_intervals:\n",
        "    train_merged[f'PromoInterval_{interval}'] = (train_merged['PromoInterval'] == interval).astype(int)\n",
        "    test_merged[f'PromoInterval_{interval}'] = (test_merged['PromoInterval'] == interval).astype(int)\n",
        "\n",
        "# Date-based features\n",
        "train_merged['Month'] = train_merged['Date'].dt.month\n",
        "train_merged['Year'] = train_merged['Date'].dt.year\n",
        "test_merged['Month'] = test_merged['Date'].dt.month\n",
        "test_merged['Year'] = test_merged['Date'].dt.year\n",
        "\n",
        "# Competition features\n",
        "train_merged['CompetitionOpen'] = 12 * (train_merged['Year'] - train_merged['CompetitionOpenSinceYear']) + \\\n",
        "                                (train_merged['Month'] - train_merged['CompetitionOpenSinceMonth'])\n",
        "test_merged['CompetitionOpen'] = 12 * (test_merged['Year'] - test_merged['CompetitionOpenSinceYear']) + \\\n",
        "                               (test_merged['Month'] - test_merged['CompetitionOpenSinceMonth'])\n",
        "\n",
        "# Fix negative values\n",
        "train_merged['CompetitionOpen'] = train_merged['CompetitionOpen'].apply(lambda x: 0 if x < 0 else x)\n",
        "test_merged['CompetitionOpen'] = test_merged['CompetitionOpen'].apply(lambda x: 0 if x < 0 else x)\n",
        "\n",
        "# Simple Promo2Active feature - checks if month is in PromoInterval\n",
        "month_map = {1: 'Jan', 2: 'Feb', 3: 'Mar', 4: 'Apr', 5: 'May', 6: 'Jun',\n",
        "             7: 'Jul', 8: 'Aug', 9: 'Sep', 10: 'Oct', 11: 'Nov', 12: 'Dec'}\n",
        "\n",
        "def is_promo2_active(row):\n",
        "    if row['Promo2'] == 0:\n",
        "        return 0\n",
        "    if row['PromoInterval'] == 'None':\n",
        "        return 0\n",
        "\n",
        "    month_abbr = month_map[row['Month']]\n",
        "    return 1 if month_abbr in row['PromoInterval'] else 0\n",
        "\n",
        "train_merged['Promo2Active'] = train_merged.apply(is_promo2_active, axis=1)\n",
        "test_merged['Promo2Active'] = test_merged.apply(is_promo2_active, axis=1)\n",
        "\n",
        "# Drop original categorical columns\n",
        "cols_to_drop = ['StateHoliday', 'StoreType', 'Assortment', 'PromoInterval',\n",
        "               'CompetitionOpenSinceMonth', 'CompetitionOpenSinceYear',\n",
        "               'Promo2SinceWeek', 'Promo2SinceYear']\n",
        "\n",
        "# Prepare final datasets\n",
        "X_train = train_merged.drop(cols_to_drop + ['Sales', 'Customers', 'Date'], axis=1)\n",
        "y_sales = train_merged['Sales']\n",
        "y_customers = train_merged['Customers']\n",
        "\n",
        "X_test = test_merged.drop(cols_to_drop + ['Id', 'Date'], axis=1)\n",
        "\n",
        "print(f\"Training features shape: {X_train.shape}\")\n",
        "print(f\"Testing features shape: {X_test.shape}\")"
      ],
      "metadata": {
        "id": "N-jqcL-LA60h",
        "colab": {
          "base_uri": "https://localhost:8080/"
        },
        "outputId": "a875230a-908a-453e-caea-647a548f13a8"
      },
      "execution_count": null,
      "outputs": [
        {
          "output_type": "stream",
          "name": "stdout",
          "text": [
            "Training features shape: (1017209, 26)\n",
            "Testing features shape: (41088, 26)\n"
          ]
        }
      ]
    },
    {
      "cell_type": "markdown",
      "source": [
        "## Create Model"
      ],
      "metadata": {
        "id": "vGTESvDNK_Jf"
      }
    },
    {
      "cell_type": "code",
      "source": [
        "from prophet import Prophet\n",
        "import pandas as pd\n",
        "import numpy as np\n",
        "from sklearn.metrics import mean_squared_error, mean_absolute_error, r2_score"
      ],
      "metadata": {
        "id": "pxlCNMzqu5s3"
      },
      "execution_count": null,
      "outputs": []
    },
    {
      "cell_type": "code",
      "source": [
        "# Function to evaluate Prophet model\n",
        "def evaluate_prophet(model, df_val):\n",
        "    # Make predictions for validation period\n",
        "    future = model.make_future_dataframe(periods=0)\n",
        "    future = pd.concat([future, df_val[['ds']]])\n",
        "    future = future.drop_duplicates().reset_index(drop=True)\n",
        "\n",
        "    forecast = model.predict(future)\n",
        "    # Merge validation data with predictions\n",
        "    results = pd.merge(df_val, forecast[['ds', 'yhat']], on='ds')\n",
        "\n",
        "    # Calculate metrics\n",
        "    rmse = np.sqrt(mean_squared_error(results['y'], results['yhat']))\n",
        "    mae = mean_absolute_error(results['y'], results['yhat'])\n",
        "    r2 = r2_score(results['y'], results['yhat'])\n",
        "\n",
        "    return rmse, mae, r2, forecast"
      ],
      "metadata": {
        "id": "vkT1_AJ_0Tkv"
      },
      "execution_count": null,
      "outputs": []
    },
    {
      "cell_type": "code",
      "source": [
        "# Prepare data for Prophet (requires 'ds' for dates and 'y' for target variable)\n",
        "store_data = train_merged[['Date', 'Store', 'Sales']]\n",
        "store_data.columns = ['ds', 'store', 'y']\n",
        "\n",
        "# Split data for validation (by date to maintain time series integrity)\n",
        "split_date = pd.to_datetime(store_data['ds'].max()) - pd.Timedelta(days=30)\n",
        "train_prophet = store_data[store_data['ds'] <= split_date]\n",
        "val_prophet = store_data[store_data['ds'] > split_date]\n",
        "\n",
        "# Group by date for simplicity\n",
        "train_agg = train_prophet.groupby('ds')['y'].mean().reset_index()\n",
        "val_agg = val_prophet.groupby('ds')['y'].mean().reset_index()"
      ],
      "metadata": {
        "id": "HmdTKmUJ0UeA"
      },
      "execution_count": null,
      "outputs": []
    },
    {
      "cell_type": "code",
      "source": [
        "# Train the model\n",
        "model = Prophet(\n",
        "    yearly_seasonality=True,\n",
        "    weekly_seasonality=True,\n",
        "    daily_seasonality=False,\n",
        "    seasonality_mode='multiplicative'\n",
        ")\n",
        "model.fit(train_agg)\n",
        "\n",
        "# Evaluate\n",
        "rmse, mae, r2, forecast = evaluate_prophet(model, val_agg)\n",
        "print(f\"Validation Results:\")\n",
        "print(f\"RMSE: {rmse:.2f}\")\n",
        "print(f\"MAE: {mae:.2f}\")\n",
        "print(f\"R²: {r2:.4f}\")"
      ],
      "metadata": {
        "colab": {
          "base_uri": "https://localhost:8080/"
        },
        "id": "NnpdtNNI0WqH",
        "outputId": "408197d3-3397-4cdb-ce2b-6b1fdf826c7c"
      },
      "execution_count": null,
      "outputs": [
        {
          "output_type": "stream",
          "name": "stderr",
          "text": [
            "DEBUG:cmdstanpy:input tempfile: /tmp/tmphqsn3002/jbd6c1pv.json\n",
            "DEBUG:cmdstanpy:input tempfile: /tmp/tmphqsn3002/un_jlmqx.json\n",
            "DEBUG:cmdstanpy:idx 0\n",
            "DEBUG:cmdstanpy:running CmdStan, num_threads: None\n",
            "DEBUG:cmdstanpy:CmdStan args: ['/usr/local/lib/python3.11/dist-packages/prophet/stan_model/prophet_model.bin', 'random', 'seed=77487', 'data', 'file=/tmp/tmphqsn3002/jbd6c1pv.json', 'init=/tmp/tmphqsn3002/un_jlmqx.json', 'output', 'file=/tmp/tmphqsn3002/prophet_modelebfc0w5d/prophet_model-20250409135305.csv', 'method=optimize', 'algorithm=lbfgs', 'iter=10000']\n",
            "13:53:05 - cmdstanpy - INFO - Chain [1] start processing\n",
            "INFO:cmdstanpy:Chain [1] start processing\n",
            "13:53:05 - cmdstanpy - INFO - Chain [1] done processing\n",
            "INFO:cmdstanpy:Chain [1] done processing\n"
          ]
        },
        {
          "output_type": "stream",
          "name": "stdout",
          "text": [
            "Validation Results:\n",
            "RMSE: 1057.75\n",
            "MAE: 908.98\n",
            "R²: 0.8317\n"
          ]
        }
      ]
    },
    {
      "cell_type": "code",
      "source": [
        "# Function for hyperparameter optimization\n",
        "def optimize_prophet_hyperparams(train_df, val_df):\n",
        "    best_rmse = float('inf')\n",
        "    best_params = {}\n",
        "\n",
        "    # Parameter grid (simplified)\n",
        "    param_grid = {\n",
        "        'changepoint_prior_scale': [0.001, 0.01, 0.1, 0.5],\n",
        "        'seasonality_prior_scale': [0.01, 0.1, 1.0, 10.0],\n",
        "        'seasonality_mode': ['additive', 'multiplicative']\n",
        "    }\n",
        "\n",
        "    # Try combinations\n",
        "    for changepoint_prior in param_grid['changepoint_prior_scale']:\n",
        "        for seasonality_prior in param_grid['seasonality_prior_scale']:\n",
        "            for seasonality_mode in param_grid['seasonality_mode']:\n",
        "                # Create and fit model with current parameters\n",
        "                model = Prophet(\n",
        "                    changepoint_prior_scale=changepoint_prior,\n",
        "                    seasonality_prior_scale=seasonality_prior,\n",
        "                    seasonality_mode=seasonality_mode,\n",
        "                    yearly_seasonality=True,\n",
        "                    weekly_seasonality=True\n",
        "                )\n",
        "\n",
        "                model.fit(train_df)\n",
        "                rmse, _, _, _ = evaluate_prophet(model, val_df)\n",
        "\n",
        "                # Update best parameters if improved\n",
        "                if rmse < best_rmse:\n",
        "                    best_rmse = rmse\n",
        "                    best_params = {\n",
        "                        'changepoint_prior_scale': changepoint_prior,\n",
        "                        'seasonality_prior_scale': seasonality_prior,\n",
        "                        'seasonality_mode': seasonality_mode\n",
        "                    }\n",
        "\n",
        "                print(f\"RMSE: {rmse:.2f}, Parameters: {changepoint_prior}, {seasonality_prior}, {seasonality_mode}\")\n",
        "\n",
        "    return best_params, best_rmse"
      ],
      "metadata": {
        "id": "sJZlD2-K0a3P"
      },
      "execution_count": null,
      "outputs": []
    },
    {
      "cell_type": "code",
      "source": [
        "# Uncomment to run hyperparameter optimization (takes time)\n",
        "best_params, best_rmse = optimize_prophet_hyperparams(train_agg, val_agg)\n",
        "print(f\"\\nBest Parameters: {best_params}\")\n",
        "print(f\"Best RMSE: {best_rmse:.2f}\")"
      ],
      "metadata": {
        "colab": {
          "base_uri": "https://localhost:8080/"
        },
        "id": "AEV3WNcr0rOv",
        "outputId": "d82f76e4-41e2-4b19-f48d-ec3b657d1321"
      },
      "execution_count": null,
      "outputs": [
        {
          "output_type": "stream",
          "name": "stderr",
          "text": [
            "INFO:prophet:Disabling daily seasonality. Run prophet with daily_seasonality=True to override this.\n",
            "DEBUG:cmdstanpy:input tempfile: /tmp/tmphqsn3002/kgc2g3mz.json\n",
            "DEBUG:cmdstanpy:input tempfile: /tmp/tmphqsn3002/retyoc77.json\n",
            "DEBUG:cmdstanpy:idx 0\n",
            "DEBUG:cmdstanpy:running CmdStan, num_threads: None\n",
            "DEBUG:cmdstanpy:CmdStan args: ['/usr/local/lib/python3.11/dist-packages/prophet/stan_model/prophet_model.bin', 'random', 'seed=15591', 'data', 'file=/tmp/tmphqsn3002/kgc2g3mz.json', 'init=/tmp/tmphqsn3002/retyoc77.json', 'output', 'file=/tmp/tmphqsn3002/prophet_modela9njl2qt/prophet_model-20250409135315.csv', 'method=optimize', 'algorithm=lbfgs', 'iter=10000']\n",
            "13:53:15 - cmdstanpy - INFO - Chain [1] start processing\n",
            "INFO:cmdstanpy:Chain [1] start processing\n",
            "13:53:15 - cmdstanpy - INFO - Chain [1] done processing\n",
            "INFO:cmdstanpy:Chain [1] done processing\n",
            "INFO:prophet:Disabling daily seasonality. Run prophet with daily_seasonality=True to override this.\n",
            "DEBUG:cmdstanpy:input tempfile: /tmp/tmphqsn3002/0fdom48g.json\n",
            "DEBUG:cmdstanpy:input tempfile: /tmp/tmphqsn3002/g0c8jz3n.json\n",
            "DEBUG:cmdstanpy:idx 0\n",
            "DEBUG:cmdstanpy:running CmdStan, num_threads: None\n",
            "DEBUG:cmdstanpy:CmdStan args: ['/usr/local/lib/python3.11/dist-packages/prophet/stan_model/prophet_model.bin', 'random', 'seed=97778', 'data', 'file=/tmp/tmphqsn3002/0fdom48g.json', 'init=/tmp/tmphqsn3002/g0c8jz3n.json', 'output', 'file=/tmp/tmphqsn3002/prophet_modelgkyy66hc/prophet_model-20250409135315.csv', 'method=optimize', 'algorithm=lbfgs', 'iter=10000']\n",
            "13:53:15 - cmdstanpy - INFO - Chain [1] start processing\n",
            "INFO:cmdstanpy:Chain [1] start processing\n",
            "13:53:15 - cmdstanpy - INFO - Chain [1] done processing\n",
            "INFO:cmdstanpy:Chain [1] done processing\n"
          ]
        },
        {
          "output_type": "stream",
          "name": "stdout",
          "text": [
            "RMSE: 1148.91, Parameters: 0.001, 0.01, additive\n"
          ]
        },
        {
          "output_type": "stream",
          "name": "stderr",
          "text": [
            "INFO:prophet:Disabling daily seasonality. Run prophet with daily_seasonality=True to override this.\n",
            "DEBUG:cmdstanpy:input tempfile: /tmp/tmphqsn3002/7u615rfk.json\n",
            "DEBUG:cmdstanpy:input tempfile: /tmp/tmphqsn3002/vdmfwjvj.json\n",
            "DEBUG:cmdstanpy:idx 0\n",
            "DEBUG:cmdstanpy:running CmdStan, num_threads: None\n",
            "DEBUG:cmdstanpy:CmdStan args: ['/usr/local/lib/python3.11/dist-packages/prophet/stan_model/prophet_model.bin', 'random', 'seed=4321', 'data', 'file=/tmp/tmphqsn3002/7u615rfk.json', 'init=/tmp/tmphqsn3002/vdmfwjvj.json', 'output', 'file=/tmp/tmphqsn3002/prophet_modeli9vh7ns9/prophet_model-20250409135315.csv', 'method=optimize', 'algorithm=lbfgs', 'iter=10000']\n",
            "13:53:15 - cmdstanpy - INFO - Chain [1] start processing\n",
            "INFO:cmdstanpy:Chain [1] start processing\n",
            "13:53:15 - cmdstanpy - INFO - Chain [1] done processing\n",
            "INFO:cmdstanpy:Chain [1] done processing\n"
          ]
        },
        {
          "output_type": "stream",
          "name": "stdout",
          "text": [
            "RMSE: 3845.40, Parameters: 0.001, 0.01, multiplicative\n"
          ]
        },
        {
          "output_type": "stream",
          "name": "stderr",
          "text": [
            "INFO:prophet:Disabling daily seasonality. Run prophet with daily_seasonality=True to override this.\n",
            "DEBUG:cmdstanpy:input tempfile: /tmp/tmphqsn3002/rfrjf_gh.json\n",
            "DEBUG:cmdstanpy:input tempfile: /tmp/tmphqsn3002/hzxp_nd6.json\n",
            "DEBUG:cmdstanpy:idx 0\n",
            "DEBUG:cmdstanpy:running CmdStan, num_threads: None\n",
            "DEBUG:cmdstanpy:CmdStan args: ['/usr/local/lib/python3.11/dist-packages/prophet/stan_model/prophet_model.bin', 'random', 'seed=35872', 'data', 'file=/tmp/tmphqsn3002/rfrjf_gh.json', 'init=/tmp/tmphqsn3002/hzxp_nd6.json', 'output', 'file=/tmp/tmphqsn3002/prophet_modeldo81jys6/prophet_model-20250409135316.csv', 'method=optimize', 'algorithm=lbfgs', 'iter=10000']\n",
            "13:53:16 - cmdstanpy - INFO - Chain [1] start processing\n",
            "INFO:cmdstanpy:Chain [1] start processing\n",
            "13:53:16 - cmdstanpy - INFO - Chain [1] done processing\n",
            "INFO:cmdstanpy:Chain [1] done processing\n"
          ]
        },
        {
          "output_type": "stream",
          "name": "stdout",
          "text": [
            "RMSE: 1216.12, Parameters: 0.001, 0.1, additive\n"
          ]
        },
        {
          "output_type": "stream",
          "name": "stderr",
          "text": [
            "INFO:prophet:Disabling daily seasonality. Run prophet with daily_seasonality=True to override this.\n",
            "DEBUG:cmdstanpy:input tempfile: /tmp/tmphqsn3002/agmk97ns.json\n",
            "DEBUG:cmdstanpy:input tempfile: /tmp/tmphqsn3002/i7syaptj.json\n",
            "DEBUG:cmdstanpy:idx 0\n",
            "DEBUG:cmdstanpy:running CmdStan, num_threads: None\n",
            "DEBUG:cmdstanpy:CmdStan args: ['/usr/local/lib/python3.11/dist-packages/prophet/stan_model/prophet_model.bin', 'random', 'seed=88660', 'data', 'file=/tmp/tmphqsn3002/agmk97ns.json', 'init=/tmp/tmphqsn3002/i7syaptj.json', 'output', 'file=/tmp/tmphqsn3002/prophet_modelo2jvytt1/prophet_model-20250409135316.csv', 'method=optimize', 'algorithm=lbfgs', 'iter=10000']\n",
            "13:53:16 - cmdstanpy - INFO - Chain [1] start processing\n",
            "INFO:cmdstanpy:Chain [1] start processing\n",
            "13:53:16 - cmdstanpy - INFO - Chain [1] done processing\n",
            "INFO:cmdstanpy:Chain [1] done processing\n"
          ]
        },
        {
          "output_type": "stream",
          "name": "stdout",
          "text": [
            "RMSE: 1079.29, Parameters: 0.001, 0.1, multiplicative\n"
          ]
        },
        {
          "output_type": "stream",
          "name": "stderr",
          "text": [
            "INFO:prophet:Disabling daily seasonality. Run prophet with daily_seasonality=True to override this.\n",
            "DEBUG:cmdstanpy:input tempfile: /tmp/tmphqsn3002/yatufq7z.json\n",
            "DEBUG:cmdstanpy:input tempfile: /tmp/tmphqsn3002/8kkj8t15.json\n",
            "DEBUG:cmdstanpy:idx 0\n",
            "DEBUG:cmdstanpy:running CmdStan, num_threads: None\n",
            "DEBUG:cmdstanpy:CmdStan args: ['/usr/local/lib/python3.11/dist-packages/prophet/stan_model/prophet_model.bin', 'random', 'seed=36592', 'data', 'file=/tmp/tmphqsn3002/yatufq7z.json', 'init=/tmp/tmphqsn3002/8kkj8t15.json', 'output', 'file=/tmp/tmphqsn3002/prophet_modelk7um1lgt/prophet_model-20250409135316.csv', 'method=optimize', 'algorithm=lbfgs', 'iter=10000']\n",
            "13:53:16 - cmdstanpy - INFO - Chain [1] start processing\n",
            "INFO:cmdstanpy:Chain [1] start processing\n",
            "13:53:16 - cmdstanpy - INFO - Chain [1] done processing\n",
            "INFO:cmdstanpy:Chain [1] done processing\n"
          ]
        },
        {
          "output_type": "stream",
          "name": "stdout",
          "text": [
            "RMSE: 1079.82, Parameters: 0.001, 1.0, additive\n"
          ]
        },
        {
          "output_type": "stream",
          "name": "stderr",
          "text": [
            "INFO:prophet:Disabling daily seasonality. Run prophet with daily_seasonality=True to override this.\n",
            "DEBUG:cmdstanpy:input tempfile: /tmp/tmphqsn3002/17uppgtw.json\n",
            "DEBUG:cmdstanpy:input tempfile: /tmp/tmphqsn3002/a858znw4.json\n",
            "DEBUG:cmdstanpy:idx 0\n",
            "DEBUG:cmdstanpy:running CmdStan, num_threads: None\n",
            "DEBUG:cmdstanpy:CmdStan args: ['/usr/local/lib/python3.11/dist-packages/prophet/stan_model/prophet_model.bin', 'random', 'seed=74933', 'data', 'file=/tmp/tmphqsn3002/17uppgtw.json', 'init=/tmp/tmphqsn3002/a858znw4.json', 'output', 'file=/tmp/tmphqsn3002/prophet_modelge8ta1y7/prophet_model-20250409135316.csv', 'method=optimize', 'algorithm=lbfgs', 'iter=10000']\n",
            "13:53:16 - cmdstanpy - INFO - Chain [1] start processing\n",
            "INFO:cmdstanpy:Chain [1] start processing\n",
            "13:53:16 - cmdstanpy - INFO - Chain [1] done processing\n",
            "INFO:cmdstanpy:Chain [1] done processing\n"
          ]
        },
        {
          "output_type": "stream",
          "name": "stdout",
          "text": [
            "RMSE: 1696.58, Parameters: 0.001, 1.0, multiplicative\n"
          ]
        },
        {
          "output_type": "stream",
          "name": "stderr",
          "text": [
            "INFO:prophet:Disabling daily seasonality. Run prophet with daily_seasonality=True to override this.\n",
            "DEBUG:cmdstanpy:input tempfile: /tmp/tmphqsn3002/_lvgbdsz.json\n",
            "DEBUG:cmdstanpy:input tempfile: /tmp/tmphqsn3002/9jrdtzqg.json\n",
            "DEBUG:cmdstanpy:idx 0\n",
            "DEBUG:cmdstanpy:running CmdStan, num_threads: None\n",
            "DEBUG:cmdstanpy:CmdStan args: ['/usr/local/lib/python3.11/dist-packages/prophet/stan_model/prophet_model.bin', 'random', 'seed=20217', 'data', 'file=/tmp/tmphqsn3002/_lvgbdsz.json', 'init=/tmp/tmphqsn3002/9jrdtzqg.json', 'output', 'file=/tmp/tmphqsn3002/prophet_modeljb4pd8em/prophet_model-20250409135317.csv', 'method=optimize', 'algorithm=lbfgs', 'iter=10000']\n",
            "13:53:17 - cmdstanpy - INFO - Chain [1] start processing\n",
            "INFO:cmdstanpy:Chain [1] start processing\n",
            "13:53:17 - cmdstanpy - INFO - Chain [1] done processing\n",
            "INFO:cmdstanpy:Chain [1] done processing\n"
          ]
        },
        {
          "output_type": "stream",
          "name": "stdout",
          "text": [
            "RMSE: 1058.78, Parameters: 0.001, 10.0, additive\n"
          ]
        },
        {
          "output_type": "stream",
          "name": "stderr",
          "text": [
            "INFO:prophet:Disabling daily seasonality. Run prophet with daily_seasonality=True to override this.\n",
            "DEBUG:cmdstanpy:input tempfile: /tmp/tmphqsn3002/fzbd0l65.json\n",
            "DEBUG:cmdstanpy:input tempfile: /tmp/tmphqsn3002/ov95wo_7.json\n",
            "DEBUG:cmdstanpy:idx 0\n",
            "DEBUG:cmdstanpy:running CmdStan, num_threads: None\n",
            "DEBUG:cmdstanpy:CmdStan args: ['/usr/local/lib/python3.11/dist-packages/prophet/stan_model/prophet_model.bin', 'random', 'seed=88592', 'data', 'file=/tmp/tmphqsn3002/fzbd0l65.json', 'init=/tmp/tmphqsn3002/ov95wo_7.json', 'output', 'file=/tmp/tmphqsn3002/prophet_modely5vt52qw/prophet_model-20250409135317.csv', 'method=optimize', 'algorithm=lbfgs', 'iter=10000']\n",
            "13:53:17 - cmdstanpy - INFO - Chain [1] start processing\n",
            "INFO:cmdstanpy:Chain [1] start processing\n",
            "13:53:17 - cmdstanpy - INFO - Chain [1] done processing\n",
            "INFO:cmdstanpy:Chain [1] done processing\n"
          ]
        },
        {
          "output_type": "stream",
          "name": "stdout",
          "text": [
            "RMSE: 1177.72, Parameters: 0.001, 10.0, multiplicative\n"
          ]
        },
        {
          "output_type": "stream",
          "name": "stderr",
          "text": [
            "INFO:prophet:Disabling daily seasonality. Run prophet with daily_seasonality=True to override this.\n",
            "DEBUG:cmdstanpy:input tempfile: /tmp/tmphqsn3002/g5oxqgra.json\n",
            "DEBUG:cmdstanpy:input tempfile: /tmp/tmphqsn3002/018s2652.json\n",
            "DEBUG:cmdstanpy:idx 0\n",
            "DEBUG:cmdstanpy:running CmdStan, num_threads: None\n",
            "DEBUG:cmdstanpy:CmdStan args: ['/usr/local/lib/python3.11/dist-packages/prophet/stan_model/prophet_model.bin', 'random', 'seed=47765', 'data', 'file=/tmp/tmphqsn3002/g5oxqgra.json', 'init=/tmp/tmphqsn3002/018s2652.json', 'output', 'file=/tmp/tmphqsn3002/prophet_modelje348r4o/prophet_model-20250409135317.csv', 'method=optimize', 'algorithm=lbfgs', 'iter=10000']\n",
            "13:53:17 - cmdstanpy - INFO - Chain [1] start processing\n",
            "INFO:cmdstanpy:Chain [1] start processing\n",
            "13:53:17 - cmdstanpy - INFO - Chain [1] done processing\n",
            "INFO:cmdstanpy:Chain [1] done processing\n"
          ]
        },
        {
          "output_type": "stream",
          "name": "stdout",
          "text": [
            "RMSE: 1245.02, Parameters: 0.01, 0.01, additive\n"
          ]
        },
        {
          "output_type": "stream",
          "name": "stderr",
          "text": [
            "INFO:prophet:Disabling daily seasonality. Run prophet with daily_seasonality=True to override this.\n",
            "DEBUG:cmdstanpy:input tempfile: /tmp/tmphqsn3002/rih48ne1.json\n",
            "DEBUG:cmdstanpy:input tempfile: /tmp/tmphqsn3002/co_s3fe4.json\n",
            "DEBUG:cmdstanpy:idx 0\n",
            "DEBUG:cmdstanpy:running CmdStan, num_threads: None\n",
            "DEBUG:cmdstanpy:CmdStan args: ['/usr/local/lib/python3.11/dist-packages/prophet/stan_model/prophet_model.bin', 'random', 'seed=76800', 'data', 'file=/tmp/tmphqsn3002/rih48ne1.json', 'init=/tmp/tmphqsn3002/co_s3fe4.json', 'output', 'file=/tmp/tmphqsn3002/prophet_modelh520i2z4/prophet_model-20250409135317.csv', 'method=optimize', 'algorithm=lbfgs', 'iter=10000']\n",
            "13:53:17 - cmdstanpy - INFO - Chain [1] start processing\n",
            "INFO:cmdstanpy:Chain [1] start processing\n",
            "13:53:17 - cmdstanpy - INFO - Chain [1] done processing\n",
            "INFO:cmdstanpy:Chain [1] done processing\n"
          ]
        },
        {
          "output_type": "stream",
          "name": "stdout",
          "text": [
            "RMSE: 2152.28, Parameters: 0.01, 0.01, multiplicative\n"
          ]
        },
        {
          "output_type": "stream",
          "name": "stderr",
          "text": [
            "INFO:prophet:Disabling daily seasonality. Run prophet with daily_seasonality=True to override this.\n",
            "DEBUG:cmdstanpy:input tempfile: /tmp/tmphqsn3002/sjwszke7.json\n",
            "DEBUG:cmdstanpy:input tempfile: /tmp/tmphqsn3002/kb2_8yb_.json\n",
            "DEBUG:cmdstanpy:idx 0\n",
            "DEBUG:cmdstanpy:running CmdStan, num_threads: None\n",
            "DEBUG:cmdstanpy:CmdStan args: ['/usr/local/lib/python3.11/dist-packages/prophet/stan_model/prophet_model.bin', 'random', 'seed=11073', 'data', 'file=/tmp/tmphqsn3002/sjwszke7.json', 'init=/tmp/tmphqsn3002/kb2_8yb_.json', 'output', 'file=/tmp/tmphqsn3002/prophet_modelqmffv8rb/prophet_model-20250409135318.csv', 'method=optimize', 'algorithm=lbfgs', 'iter=10000']\n",
            "13:53:18 - cmdstanpy - INFO - Chain [1] start processing\n",
            "INFO:cmdstanpy:Chain [1] start processing\n",
            "13:53:18 - cmdstanpy - INFO - Chain [1] done processing\n",
            "INFO:cmdstanpy:Chain [1] done processing\n"
          ]
        },
        {
          "output_type": "stream",
          "name": "stdout",
          "text": [
            "RMSE: 1061.52, Parameters: 0.01, 0.1, additive\n"
          ]
        },
        {
          "output_type": "stream",
          "name": "stderr",
          "text": [
            "INFO:prophet:Disabling daily seasonality. Run prophet with daily_seasonality=True to override this.\n",
            "DEBUG:cmdstanpy:input tempfile: /tmp/tmphqsn3002/lkxqwlgv.json\n",
            "DEBUG:cmdstanpy:input tempfile: /tmp/tmphqsn3002/wp_s1woo.json\n",
            "DEBUG:cmdstanpy:idx 0\n",
            "DEBUG:cmdstanpy:running CmdStan, num_threads: None\n",
            "DEBUG:cmdstanpy:CmdStan args: ['/usr/local/lib/python3.11/dist-packages/prophet/stan_model/prophet_model.bin', 'random', 'seed=54132', 'data', 'file=/tmp/tmphqsn3002/lkxqwlgv.json', 'init=/tmp/tmphqsn3002/wp_s1woo.json', 'output', 'file=/tmp/tmphqsn3002/prophet_modelb4vmbnus/prophet_model-20250409135318.csv', 'method=optimize', 'algorithm=lbfgs', 'iter=10000']\n",
            "13:53:18 - cmdstanpy - INFO - Chain [1] start processing\n",
            "INFO:cmdstanpy:Chain [1] start processing\n",
            "13:53:18 - cmdstanpy - INFO - Chain [1] done processing\n",
            "INFO:cmdstanpy:Chain [1] done processing\n"
          ]
        },
        {
          "output_type": "stream",
          "name": "stdout",
          "text": [
            "RMSE: 1071.24, Parameters: 0.01, 0.1, multiplicative\n"
          ]
        },
        {
          "output_type": "stream",
          "name": "stderr",
          "text": [
            "INFO:prophet:Disabling daily seasonality. Run prophet with daily_seasonality=True to override this.\n",
            "DEBUG:cmdstanpy:input tempfile: /tmp/tmphqsn3002/9vboertl.json\n",
            "DEBUG:cmdstanpy:input tempfile: /tmp/tmphqsn3002/elwyd3mn.json\n",
            "DEBUG:cmdstanpy:idx 0\n",
            "DEBUG:cmdstanpy:running CmdStan, num_threads: None\n",
            "DEBUG:cmdstanpy:CmdStan args: ['/usr/local/lib/python3.11/dist-packages/prophet/stan_model/prophet_model.bin', 'random', 'seed=26980', 'data', 'file=/tmp/tmphqsn3002/9vboertl.json', 'init=/tmp/tmphqsn3002/elwyd3mn.json', 'output', 'file=/tmp/tmphqsn3002/prophet_modeloou105rs/prophet_model-20250409135318.csv', 'method=optimize', 'algorithm=lbfgs', 'iter=10000']\n",
            "13:53:18 - cmdstanpy - INFO - Chain [1] start processing\n",
            "INFO:cmdstanpy:Chain [1] start processing\n",
            "13:53:18 - cmdstanpy - INFO - Chain [1] done processing\n",
            "INFO:cmdstanpy:Chain [1] done processing\n"
          ]
        },
        {
          "output_type": "stream",
          "name": "stdout",
          "text": [
            "RMSE: 1064.39, Parameters: 0.01, 1.0, additive\n"
          ]
        },
        {
          "output_type": "stream",
          "name": "stderr",
          "text": [
            "INFO:prophet:Disabling daily seasonality. Run prophet with daily_seasonality=True to override this.\n",
            "DEBUG:cmdstanpy:input tempfile: /tmp/tmphqsn3002/pfqdct9a.json\n",
            "DEBUG:cmdstanpy:input tempfile: /tmp/tmphqsn3002/q7f3zv6d.json\n",
            "DEBUG:cmdstanpy:idx 0\n",
            "DEBUG:cmdstanpy:running CmdStan, num_threads: None\n",
            "DEBUG:cmdstanpy:CmdStan args: ['/usr/local/lib/python3.11/dist-packages/prophet/stan_model/prophet_model.bin', 'random', 'seed=18252', 'data', 'file=/tmp/tmphqsn3002/pfqdct9a.json', 'init=/tmp/tmphqsn3002/q7f3zv6d.json', 'output', 'file=/tmp/tmphqsn3002/prophet_model9ju1cedb/prophet_model-20250409135318.csv', 'method=optimize', 'algorithm=lbfgs', 'iter=10000']\n",
            "13:53:18 - cmdstanpy - INFO - Chain [1] start processing\n",
            "INFO:cmdstanpy:Chain [1] start processing\n",
            "13:53:18 - cmdstanpy - INFO - Chain [1] done processing\n",
            "INFO:cmdstanpy:Chain [1] done processing\n"
          ]
        },
        {
          "output_type": "stream",
          "name": "stdout",
          "text": [
            "RMSE: 1065.28, Parameters: 0.01, 1.0, multiplicative\n"
          ]
        },
        {
          "output_type": "stream",
          "name": "stderr",
          "text": [
            "INFO:prophet:Disabling daily seasonality. Run prophet with daily_seasonality=True to override this.\n",
            "DEBUG:cmdstanpy:input tempfile: /tmp/tmphqsn3002/6w4m8hji.json\n",
            "DEBUG:cmdstanpy:input tempfile: /tmp/tmphqsn3002/rnjz054j.json\n",
            "DEBUG:cmdstanpy:idx 0\n",
            "DEBUG:cmdstanpy:running CmdStan, num_threads: None\n",
            "DEBUG:cmdstanpy:CmdStan args: ['/usr/local/lib/python3.11/dist-packages/prophet/stan_model/prophet_model.bin', 'random', 'seed=836', 'data', 'file=/tmp/tmphqsn3002/6w4m8hji.json', 'init=/tmp/tmphqsn3002/rnjz054j.json', 'output', 'file=/tmp/tmphqsn3002/prophet_modelpbsa8uir/prophet_model-20250409135319.csv', 'method=optimize', 'algorithm=lbfgs', 'iter=10000']\n",
            "13:53:19 - cmdstanpy - INFO - Chain [1] start processing\n",
            "INFO:cmdstanpy:Chain [1] start processing\n",
            "13:53:19 - cmdstanpy - INFO - Chain [1] done processing\n",
            "INFO:cmdstanpy:Chain [1] done processing\n"
          ]
        },
        {
          "output_type": "stream",
          "name": "stdout",
          "text": [
            "RMSE: 1063.49, Parameters: 0.01, 10.0, additive\n"
          ]
        },
        {
          "output_type": "stream",
          "name": "stderr",
          "text": [
            "INFO:prophet:Disabling daily seasonality. Run prophet with daily_seasonality=True to override this.\n",
            "DEBUG:cmdstanpy:input tempfile: /tmp/tmphqsn3002/96hck0h8.json\n",
            "DEBUG:cmdstanpy:input tempfile: /tmp/tmphqsn3002/6t0ipsi4.json\n",
            "DEBUG:cmdstanpy:idx 0\n",
            "DEBUG:cmdstanpy:running CmdStan, num_threads: None\n",
            "DEBUG:cmdstanpy:CmdStan args: ['/usr/local/lib/python3.11/dist-packages/prophet/stan_model/prophet_model.bin', 'random', 'seed=17292', 'data', 'file=/tmp/tmphqsn3002/96hck0h8.json', 'init=/tmp/tmphqsn3002/6t0ipsi4.json', 'output', 'file=/tmp/tmphqsn3002/prophet_model1parfbi5/prophet_model-20250409135319.csv', 'method=optimize', 'algorithm=lbfgs', 'iter=10000']\n",
            "13:53:19 - cmdstanpy - INFO - Chain [1] start processing\n",
            "INFO:cmdstanpy:Chain [1] start processing\n",
            "13:53:19 - cmdstanpy - INFO - Chain [1] done processing\n",
            "INFO:cmdstanpy:Chain [1] done processing\n"
          ]
        },
        {
          "output_type": "stream",
          "name": "stdout",
          "text": [
            "RMSE: 1068.41, Parameters: 0.01, 10.0, multiplicative\n"
          ]
        },
        {
          "output_type": "stream",
          "name": "stderr",
          "text": [
            "INFO:prophet:Disabling daily seasonality. Run prophet with daily_seasonality=True to override this.\n",
            "DEBUG:cmdstanpy:input tempfile: /tmp/tmphqsn3002/lv_q46qv.json\n",
            "DEBUG:cmdstanpy:input tempfile: /tmp/tmphqsn3002/714m0foq.json\n",
            "DEBUG:cmdstanpy:idx 0\n",
            "DEBUG:cmdstanpy:running CmdStan, num_threads: None\n",
            "DEBUG:cmdstanpy:CmdStan args: ['/usr/local/lib/python3.11/dist-packages/prophet/stan_model/prophet_model.bin', 'random', 'seed=29647', 'data', 'file=/tmp/tmphqsn3002/lv_q46qv.json', 'init=/tmp/tmphqsn3002/714m0foq.json', 'output', 'file=/tmp/tmphqsn3002/prophet_models8mtpj3i/prophet_model-20250409135319.csv', 'method=optimize', 'algorithm=lbfgs', 'iter=10000']\n",
            "13:53:19 - cmdstanpy - INFO - Chain [1] start processing\n",
            "INFO:cmdstanpy:Chain [1] start processing\n",
            "13:53:19 - cmdstanpy - INFO - Chain [1] done processing\n",
            "INFO:cmdstanpy:Chain [1] done processing\n"
          ]
        },
        {
          "output_type": "stream",
          "name": "stdout",
          "text": [
            "RMSE: 1243.42, Parameters: 0.1, 0.01, additive\n"
          ]
        },
        {
          "output_type": "stream",
          "name": "stderr",
          "text": [
            "INFO:prophet:Disabling daily seasonality. Run prophet with daily_seasonality=True to override this.\n",
            "DEBUG:cmdstanpy:input tempfile: /tmp/tmphqsn3002/rfwrsb6y.json\n",
            "DEBUG:cmdstanpy:input tempfile: /tmp/tmphqsn3002/haxv2ekf.json\n",
            "DEBUG:cmdstanpy:idx 0\n",
            "DEBUG:cmdstanpy:running CmdStan, num_threads: None\n",
            "DEBUG:cmdstanpy:CmdStan args: ['/usr/local/lib/python3.11/dist-packages/prophet/stan_model/prophet_model.bin', 'random', 'seed=8570', 'data', 'file=/tmp/tmphqsn3002/rfwrsb6y.json', 'init=/tmp/tmphqsn3002/haxv2ekf.json', 'output', 'file=/tmp/tmphqsn3002/prophet_modely7m2lme7/prophet_model-20250409135320.csv', 'method=optimize', 'algorithm=lbfgs', 'iter=10000']\n",
            "13:53:20 - cmdstanpy - INFO - Chain [1] start processing\n",
            "INFO:cmdstanpy:Chain [1] start processing\n",
            "13:53:20 - cmdstanpy - INFO - Chain [1] done processing\n",
            "INFO:cmdstanpy:Chain [1] done processing\n"
          ]
        },
        {
          "output_type": "stream",
          "name": "stdout",
          "text": [
            "RMSE: 2154.00, Parameters: 0.1, 0.01, multiplicative\n"
          ]
        },
        {
          "output_type": "stream",
          "name": "stderr",
          "text": [
            "INFO:prophet:Disabling daily seasonality. Run prophet with daily_seasonality=True to override this.\n",
            "DEBUG:cmdstanpy:input tempfile: /tmp/tmphqsn3002/4tfnmj1c.json\n",
            "DEBUG:cmdstanpy:input tempfile: /tmp/tmphqsn3002/raperrf_.json\n",
            "DEBUG:cmdstanpy:idx 0\n",
            "DEBUG:cmdstanpy:running CmdStan, num_threads: None\n",
            "DEBUG:cmdstanpy:CmdStan args: ['/usr/local/lib/python3.11/dist-packages/prophet/stan_model/prophet_model.bin', 'random', 'seed=47447', 'data', 'file=/tmp/tmphqsn3002/4tfnmj1c.json', 'init=/tmp/tmphqsn3002/raperrf_.json', 'output', 'file=/tmp/tmphqsn3002/prophet_modelo5qr_a1o/prophet_model-20250409135320.csv', 'method=optimize', 'algorithm=lbfgs', 'iter=10000']\n",
            "13:53:20 - cmdstanpy - INFO - Chain [1] start processing\n",
            "INFO:cmdstanpy:Chain [1] start processing\n",
            "13:53:20 - cmdstanpy - INFO - Chain [1] done processing\n",
            "INFO:cmdstanpy:Chain [1] done processing\n"
          ]
        },
        {
          "output_type": "stream",
          "name": "stdout",
          "text": [
            "RMSE: 1055.85, Parameters: 0.1, 0.1, additive\n"
          ]
        },
        {
          "output_type": "stream",
          "name": "stderr",
          "text": [
            "INFO:prophet:Disabling daily seasonality. Run prophet with daily_seasonality=True to override this.\n",
            "DEBUG:cmdstanpy:input tempfile: /tmp/tmphqsn3002/l7iai95o.json\n",
            "DEBUG:cmdstanpy:input tempfile: /tmp/tmphqsn3002/87fdk3b7.json\n",
            "DEBUG:cmdstanpy:idx 0\n",
            "DEBUG:cmdstanpy:running CmdStan, num_threads: None\n",
            "DEBUG:cmdstanpy:CmdStan args: ['/usr/local/lib/python3.11/dist-packages/prophet/stan_model/prophet_model.bin', 'random', 'seed=92667', 'data', 'file=/tmp/tmphqsn3002/l7iai95o.json', 'init=/tmp/tmphqsn3002/87fdk3b7.json', 'output', 'file=/tmp/tmphqsn3002/prophet_modelx1aq8hlk/prophet_model-20250409135320.csv', 'method=optimize', 'algorithm=lbfgs', 'iter=10000']\n",
            "13:53:20 - cmdstanpy - INFO - Chain [1] start processing\n",
            "INFO:cmdstanpy:Chain [1] start processing\n",
            "13:53:20 - cmdstanpy - INFO - Chain [1] done processing\n",
            "INFO:cmdstanpy:Chain [1] done processing\n"
          ]
        },
        {
          "output_type": "stream",
          "name": "stdout",
          "text": [
            "RMSE: 1059.22, Parameters: 0.1, 0.1, multiplicative\n"
          ]
        },
        {
          "output_type": "stream",
          "name": "stderr",
          "text": [
            "INFO:prophet:Disabling daily seasonality. Run prophet with daily_seasonality=True to override this.\n",
            "DEBUG:cmdstanpy:input tempfile: /tmp/tmphqsn3002/x7i1p7if.json\n",
            "DEBUG:cmdstanpy:input tempfile: /tmp/tmphqsn3002/jc1j7g7q.json\n",
            "DEBUG:cmdstanpy:idx 0\n",
            "DEBUG:cmdstanpy:running CmdStan, num_threads: None\n",
            "DEBUG:cmdstanpy:CmdStan args: ['/usr/local/lib/python3.11/dist-packages/prophet/stan_model/prophet_model.bin', 'random', 'seed=34960', 'data', 'file=/tmp/tmphqsn3002/x7i1p7if.json', 'init=/tmp/tmphqsn3002/jc1j7g7q.json', 'output', 'file=/tmp/tmphqsn3002/prophet_modelt6lfhd1b/prophet_model-20250409135320.csv', 'method=optimize', 'algorithm=lbfgs', 'iter=10000']\n",
            "13:53:20 - cmdstanpy - INFO - Chain [1] start processing\n",
            "INFO:cmdstanpy:Chain [1] start processing\n",
            "13:53:20 - cmdstanpy - INFO - Chain [1] done processing\n",
            "INFO:cmdstanpy:Chain [1] done processing\n"
          ]
        },
        {
          "output_type": "stream",
          "name": "stdout",
          "text": [
            "RMSE: 1056.24, Parameters: 0.1, 1.0, additive\n"
          ]
        },
        {
          "output_type": "stream",
          "name": "stderr",
          "text": [
            "INFO:prophet:Disabling daily seasonality. Run prophet with daily_seasonality=True to override this.\n",
            "DEBUG:cmdstanpy:input tempfile: /tmp/tmphqsn3002/c9yystik.json\n",
            "DEBUG:cmdstanpy:input tempfile: /tmp/tmphqsn3002/bz2mdfsh.json\n",
            "DEBUG:cmdstanpy:idx 0\n",
            "DEBUG:cmdstanpy:running CmdStan, num_threads: None\n",
            "DEBUG:cmdstanpy:CmdStan args: ['/usr/local/lib/python3.11/dist-packages/prophet/stan_model/prophet_model.bin', 'random', 'seed=54353', 'data', 'file=/tmp/tmphqsn3002/c9yystik.json', 'init=/tmp/tmphqsn3002/bz2mdfsh.json', 'output', 'file=/tmp/tmphqsn3002/prophet_modeli7fvphob/prophet_model-20250409135321.csv', 'method=optimize', 'algorithm=lbfgs', 'iter=10000']\n",
            "13:53:21 - cmdstanpy - INFO - Chain [1] start processing\n",
            "INFO:cmdstanpy:Chain [1] start processing\n",
            "13:53:21 - cmdstanpy - INFO - Chain [1] done processing\n",
            "INFO:cmdstanpy:Chain [1] done processing\n"
          ]
        },
        {
          "output_type": "stream",
          "name": "stdout",
          "text": [
            "RMSE: 1055.79, Parameters: 0.1, 1.0, multiplicative\n"
          ]
        },
        {
          "output_type": "stream",
          "name": "stderr",
          "text": [
            "INFO:prophet:Disabling daily seasonality. Run prophet with daily_seasonality=True to override this.\n",
            "DEBUG:cmdstanpy:input tempfile: /tmp/tmphqsn3002/dlk_0bii.json\n",
            "DEBUG:cmdstanpy:input tempfile: /tmp/tmphqsn3002/ud8b2eyc.json\n",
            "DEBUG:cmdstanpy:idx 0\n",
            "DEBUG:cmdstanpy:running CmdStan, num_threads: None\n",
            "DEBUG:cmdstanpy:CmdStan args: ['/usr/local/lib/python3.11/dist-packages/prophet/stan_model/prophet_model.bin', 'random', 'seed=67582', 'data', 'file=/tmp/tmphqsn3002/dlk_0bii.json', 'init=/tmp/tmphqsn3002/ud8b2eyc.json', 'output', 'file=/tmp/tmphqsn3002/prophet_modelxh1nawq8/prophet_model-20250409135321.csv', 'method=optimize', 'algorithm=lbfgs', 'iter=10000']\n",
            "13:53:21 - cmdstanpy - INFO - Chain [1] start processing\n",
            "INFO:cmdstanpy:Chain [1] start processing\n",
            "13:53:21 - cmdstanpy - INFO - Chain [1] done processing\n",
            "INFO:cmdstanpy:Chain [1] done processing\n"
          ]
        },
        {
          "output_type": "stream",
          "name": "stdout",
          "text": [
            "RMSE: 1056.21, Parameters: 0.1, 10.0, additive\n"
          ]
        },
        {
          "output_type": "stream",
          "name": "stderr",
          "text": [
            "INFO:prophet:Disabling daily seasonality. Run prophet with daily_seasonality=True to override this.\n",
            "DEBUG:cmdstanpy:input tempfile: /tmp/tmphqsn3002/x4avf_so.json\n",
            "DEBUG:cmdstanpy:input tempfile: /tmp/tmphqsn3002/72vvpx44.json\n",
            "DEBUG:cmdstanpy:idx 0\n",
            "DEBUG:cmdstanpy:running CmdStan, num_threads: None\n",
            "DEBUG:cmdstanpy:CmdStan args: ['/usr/local/lib/python3.11/dist-packages/prophet/stan_model/prophet_model.bin', 'random', 'seed=49990', 'data', 'file=/tmp/tmphqsn3002/x4avf_so.json', 'init=/tmp/tmphqsn3002/72vvpx44.json', 'output', 'file=/tmp/tmphqsn3002/prophet_modelwn8b3j6e/prophet_model-20250409135321.csv', 'method=optimize', 'algorithm=lbfgs', 'iter=10000']\n",
            "13:53:21 - cmdstanpy - INFO - Chain [1] start processing\n",
            "INFO:cmdstanpy:Chain [1] start processing\n",
            "13:53:21 - cmdstanpy - INFO - Chain [1] done processing\n",
            "INFO:cmdstanpy:Chain [1] done processing\n"
          ]
        },
        {
          "output_type": "stream",
          "name": "stdout",
          "text": [
            "RMSE: 1055.96, Parameters: 0.1, 10.0, multiplicative\n"
          ]
        },
        {
          "output_type": "stream",
          "name": "stderr",
          "text": [
            "INFO:prophet:Disabling daily seasonality. Run prophet with daily_seasonality=True to override this.\n",
            "DEBUG:cmdstanpy:input tempfile: /tmp/tmphqsn3002/9d3f7lg0.json\n",
            "DEBUG:cmdstanpy:input tempfile: /tmp/tmphqsn3002/xffsfzhz.json\n",
            "DEBUG:cmdstanpy:idx 0\n",
            "DEBUG:cmdstanpy:running CmdStan, num_threads: None\n",
            "DEBUG:cmdstanpy:CmdStan args: ['/usr/local/lib/python3.11/dist-packages/prophet/stan_model/prophet_model.bin', 'random', 'seed=96941', 'data', 'file=/tmp/tmphqsn3002/9d3f7lg0.json', 'init=/tmp/tmphqsn3002/xffsfzhz.json', 'output', 'file=/tmp/tmphqsn3002/prophet_model7a2bi3_m/prophet_model-20250409135321.csv', 'method=optimize', 'algorithm=lbfgs', 'iter=10000']\n",
            "13:53:21 - cmdstanpy - INFO - Chain [1] start processing\n",
            "INFO:cmdstanpy:Chain [1] start processing\n",
            "13:53:22 - cmdstanpy - INFO - Chain [1] done processing\n",
            "INFO:cmdstanpy:Chain [1] done processing\n"
          ]
        },
        {
          "output_type": "stream",
          "name": "stdout",
          "text": [
            "RMSE: 1241.41, Parameters: 0.5, 0.01, additive\n"
          ]
        },
        {
          "output_type": "stream",
          "name": "stderr",
          "text": [
            "INFO:prophet:Disabling daily seasonality. Run prophet with daily_seasonality=True to override this.\n",
            "DEBUG:cmdstanpy:input tempfile: /tmp/tmphqsn3002/e1ljr90c.json\n",
            "DEBUG:cmdstanpy:input tempfile: /tmp/tmphqsn3002/nrq38t13.json\n",
            "DEBUG:cmdstanpy:idx 0\n",
            "DEBUG:cmdstanpy:running CmdStan, num_threads: None\n",
            "DEBUG:cmdstanpy:CmdStan args: ['/usr/local/lib/python3.11/dist-packages/prophet/stan_model/prophet_model.bin', 'random', 'seed=4267', 'data', 'file=/tmp/tmphqsn3002/e1ljr90c.json', 'init=/tmp/tmphqsn3002/nrq38t13.json', 'output', 'file=/tmp/tmphqsn3002/prophet_modelec8a9yas/prophet_model-20250409135322.csv', 'method=optimize', 'algorithm=lbfgs', 'iter=10000']\n",
            "13:53:22 - cmdstanpy - INFO - Chain [1] start processing\n",
            "INFO:cmdstanpy:Chain [1] start processing\n"
          ]
        },
        {
          "output_type": "stream",
          "name": "stdout",
          "text": [
            "RMSE: 2156.17, Parameters: 0.5, 0.01, multiplicative\n"
          ]
        },
        {
          "output_type": "stream",
          "name": "stderr",
          "text": [
            "13:53:22 - cmdstanpy - INFO - Chain [1] done processing\n",
            "INFO:cmdstanpy:Chain [1] done processing\n",
            "INFO:prophet:Disabling daily seasonality. Run prophet with daily_seasonality=True to override this.\n",
            "DEBUG:cmdstanpy:input tempfile: /tmp/tmphqsn3002/hqyxqzrp.json\n",
            "DEBUG:cmdstanpy:input tempfile: /tmp/tmphqsn3002/capt_9vz.json\n",
            "DEBUG:cmdstanpy:idx 0\n",
            "DEBUG:cmdstanpy:running CmdStan, num_threads: None\n",
            "DEBUG:cmdstanpy:CmdStan args: ['/usr/local/lib/python3.11/dist-packages/prophet/stan_model/prophet_model.bin', 'random', 'seed=36374', 'data', 'file=/tmp/tmphqsn3002/hqyxqzrp.json', 'init=/tmp/tmphqsn3002/capt_9vz.json', 'output', 'file=/tmp/tmphqsn3002/prophet_model0a5swhfz/prophet_model-20250409135322.csv', 'method=optimize', 'algorithm=lbfgs', 'iter=10000']\n",
            "13:53:22 - cmdstanpy - INFO - Chain [1] start processing\n",
            "INFO:cmdstanpy:Chain [1] start processing\n",
            "13:53:22 - cmdstanpy - INFO - Chain [1] done processing\n",
            "INFO:cmdstanpy:Chain [1] done processing\n"
          ]
        },
        {
          "output_type": "stream",
          "name": "stdout",
          "text": [
            "RMSE: 1056.96, Parameters: 0.5, 0.1, additive\n"
          ]
        },
        {
          "output_type": "stream",
          "name": "stderr",
          "text": [
            "INFO:prophet:Disabling daily seasonality. Run prophet with daily_seasonality=True to override this.\n",
            "DEBUG:cmdstanpy:input tempfile: /tmp/tmphqsn3002/6xyd8nly.json\n",
            "DEBUG:cmdstanpy:input tempfile: /tmp/tmphqsn3002/coes2zlf.json\n",
            "DEBUG:cmdstanpy:idx 0\n",
            "DEBUG:cmdstanpy:running CmdStan, num_threads: None\n",
            "DEBUG:cmdstanpy:CmdStan args: ['/usr/local/lib/python3.11/dist-packages/prophet/stan_model/prophet_model.bin', 'random', 'seed=89010', 'data', 'file=/tmp/tmphqsn3002/6xyd8nly.json', 'init=/tmp/tmphqsn3002/coes2zlf.json', 'output', 'file=/tmp/tmphqsn3002/prophet_modelatr5ikjh/prophet_model-20250409135322.csv', 'method=optimize', 'algorithm=lbfgs', 'iter=10000']\n",
            "13:53:22 - cmdstanpy - INFO - Chain [1] start processing\n",
            "INFO:cmdstanpy:Chain [1] start processing\n",
            "13:53:23 - cmdstanpy - INFO - Chain [1] done processing\n",
            "INFO:cmdstanpy:Chain [1] done processing\n"
          ]
        },
        {
          "output_type": "stream",
          "name": "stdout",
          "text": [
            "RMSE: 1053.86, Parameters: 0.5, 0.1, multiplicative\n"
          ]
        },
        {
          "output_type": "stream",
          "name": "stderr",
          "text": [
            "INFO:prophet:Disabling daily seasonality. Run prophet with daily_seasonality=True to override this.\n",
            "DEBUG:cmdstanpy:input tempfile: /tmp/tmphqsn3002/0ytpw_o3.json\n",
            "DEBUG:cmdstanpy:input tempfile: /tmp/tmphqsn3002/wm73vgnu.json\n",
            "DEBUG:cmdstanpy:idx 0\n",
            "DEBUG:cmdstanpy:running CmdStan, num_threads: None\n",
            "DEBUG:cmdstanpy:CmdStan args: ['/usr/local/lib/python3.11/dist-packages/prophet/stan_model/prophet_model.bin', 'random', 'seed=49520', 'data', 'file=/tmp/tmphqsn3002/0ytpw_o3.json', 'init=/tmp/tmphqsn3002/wm73vgnu.json', 'output', 'file=/tmp/tmphqsn3002/prophet_modelceqniqb_/prophet_model-20250409135323.csv', 'method=optimize', 'algorithm=lbfgs', 'iter=10000']\n",
            "13:53:23 - cmdstanpy - INFO - Chain [1] start processing\n",
            "INFO:cmdstanpy:Chain [1] start processing\n",
            "13:53:23 - cmdstanpy - INFO - Chain [1] done processing\n",
            "INFO:cmdstanpy:Chain [1] done processing\n"
          ]
        },
        {
          "output_type": "stream",
          "name": "stdout",
          "text": [
            "RMSE: 1056.06, Parameters: 0.5, 1.0, additive\n"
          ]
        },
        {
          "output_type": "stream",
          "name": "stderr",
          "text": [
            "INFO:prophet:Disabling daily seasonality. Run prophet with daily_seasonality=True to override this.\n",
            "DEBUG:cmdstanpy:input tempfile: /tmp/tmphqsn3002/uji5vwm6.json\n",
            "DEBUG:cmdstanpy:input tempfile: /tmp/tmphqsn3002/kchsztwm.json\n",
            "DEBUG:cmdstanpy:idx 0\n",
            "DEBUG:cmdstanpy:running CmdStan, num_threads: None\n",
            "DEBUG:cmdstanpy:CmdStan args: ['/usr/local/lib/python3.11/dist-packages/prophet/stan_model/prophet_model.bin', 'random', 'seed=95380', 'data', 'file=/tmp/tmphqsn3002/uji5vwm6.json', 'init=/tmp/tmphqsn3002/kchsztwm.json', 'output', 'file=/tmp/tmphqsn3002/prophet_modely57i9sa3/prophet_model-20250409135323.csv', 'method=optimize', 'algorithm=lbfgs', 'iter=10000']\n",
            "13:53:23 - cmdstanpy - INFO - Chain [1] start processing\n",
            "INFO:cmdstanpy:Chain [1] start processing\n",
            "13:53:23 - cmdstanpy - INFO - Chain [1] done processing\n",
            "INFO:cmdstanpy:Chain [1] done processing\n"
          ]
        },
        {
          "output_type": "stream",
          "name": "stdout",
          "text": [
            "RMSE: 1052.48, Parameters: 0.5, 1.0, multiplicative\n"
          ]
        },
        {
          "output_type": "stream",
          "name": "stderr",
          "text": [
            "INFO:prophet:Disabling daily seasonality. Run prophet with daily_seasonality=True to override this.\n",
            "DEBUG:cmdstanpy:input tempfile: /tmp/tmphqsn3002/tg1whze3.json\n",
            "DEBUG:cmdstanpy:input tempfile: /tmp/tmphqsn3002/pw_9g7_b.json\n",
            "DEBUG:cmdstanpy:idx 0\n",
            "DEBUG:cmdstanpy:running CmdStan, num_threads: None\n",
            "DEBUG:cmdstanpy:CmdStan args: ['/usr/local/lib/python3.11/dist-packages/prophet/stan_model/prophet_model.bin', 'random', 'seed=38917', 'data', 'file=/tmp/tmphqsn3002/tg1whze3.json', 'init=/tmp/tmphqsn3002/pw_9g7_b.json', 'output', 'file=/tmp/tmphqsn3002/prophet_modelk3wkll_v/prophet_model-20250409135323.csv', 'method=optimize', 'algorithm=lbfgs', 'iter=10000']\n",
            "13:53:23 - cmdstanpy - INFO - Chain [1] start processing\n",
            "INFO:cmdstanpy:Chain [1] start processing\n",
            "13:53:23 - cmdstanpy - INFO - Chain [1] done processing\n",
            "INFO:cmdstanpy:Chain [1] done processing\n"
          ]
        },
        {
          "output_type": "stream",
          "name": "stdout",
          "text": [
            "RMSE: 1056.92, Parameters: 0.5, 10.0, additive\n",
            "RMSE: 1053.18, Parameters: 0.5, 10.0, multiplicative\n",
            "\n",
            "Best Parameters: {'changepoint_prior_scale': 0.5, 'seasonality_prior_scale': 1.0, 'seasonality_mode': 'multiplicative'}\n",
            "Best RMSE: 1052.48\n"
          ]
        }
      ]
    },
    {
      "cell_type": "code",
      "source": [
        "# Train final model (either with default or best parameters)\n",
        "final_model = Prophet(\n",
        "    yearly_seasonality=True,\n",
        "    weekly_seasonality=True,\n",
        "    daily_seasonality=False,\n",
        "    # Uncomment and add best parameters if optimization was run\n",
        "    changepoint_prior_scale=best_params['changepoint_prior_scale'],\n",
        "    seasonality_prior_scale=best_params['seasonality_prior_scale'],\n",
        "    seasonality_mode=best_params['seasonality_mode']\n",
        ")\n",
        "final_model.fit(train_agg)\n",
        "\n",
        "# Prepare test dates\n",
        "test_dates = pd.DataFrame({'ds': pd.to_datetime(test_merged['Date'].unique())})\n",
        "forecast_test = final_model.predict(test_dates)\n",
        "\n",
        "# Join with test data\n",
        "test_predictions = pd.merge(\n",
        "    test_merged[['Id', 'Date']],\n",
        "    forecast_test[['ds', 'yhat']],\n",
        "    left_on='Date',\n",
        "    right_on='ds',\n",
        "    how='left'\n",
        ")\n",
        "\n",
        "# Create submission\n",
        "submission = pd.DataFrame({\n",
        "    'Id': test_predictions['Id'],\n",
        "    'Sales': test_predictions['yhat'].clip(0)  # Prevent negative sales\n",
        "})\n",
        "\n",
        "submission.to_csv('/content/drive/MyDrive/ML Assignment/prophet_sales_prediction.csv', index=False)\n",
        "print(\"\\nPredictions saved to 'prophet_sales_prediction.csv'\")"
      ],
      "metadata": {
        "colab": {
          "base_uri": "https://localhost:8080/"
        },
        "id": "F0xeoVTR0lTv",
        "outputId": "d60f5c71-c6e9-4bfa-83a1-a112c79b2aa8"
      },
      "execution_count": null,
      "outputs": [
        {
          "output_type": "stream",
          "name": "stderr",
          "text": [
            "DEBUG:cmdstanpy:input tempfile: /tmp/tmphqsn3002/mv5po1vr.json\n",
            "DEBUG:cmdstanpy:input tempfile: /tmp/tmphqsn3002/csp8uvbr.json\n",
            "DEBUG:cmdstanpy:idx 0\n",
            "DEBUG:cmdstanpy:running CmdStan, num_threads: None\n",
            "DEBUG:cmdstanpy:CmdStan args: ['/usr/local/lib/python3.11/dist-packages/prophet/stan_model/prophet_model.bin', 'random', 'seed=80480', 'data', 'file=/tmp/tmphqsn3002/mv5po1vr.json', 'init=/tmp/tmphqsn3002/csp8uvbr.json', 'output', 'file=/tmp/tmphqsn3002/prophet_modelgp1idslp/prophet_model-20250409135648.csv', 'method=optimize', 'algorithm=lbfgs', 'iter=10000']\n",
            "13:56:48 - cmdstanpy - INFO - Chain [1] start processing\n",
            "INFO:cmdstanpy:Chain [1] start processing\n",
            "13:56:48 - cmdstanpy - INFO - Chain [1] done processing\n",
            "INFO:cmdstanpy:Chain [1] done processing\n"
          ]
        },
        {
          "output_type": "stream",
          "name": "stdout",
          "text": [
            "\n",
            "Predictions saved to 'prophet_sales_prediction.csv'\n"
          ]
        }
      ]
    }
  ]
}